{
 "cells": [
  {
   "cell_type": "code",
   "execution_count": 27,
   "id": "1c3e5c3b",
   "metadata": {},
   "outputs": [],
   "source": [
    "from selenium import webdriver\n",
    "from  selenium.webdriver.common.by import By\n",
    "\n",
    "navegador = webdriver.Chrome()\n",
    "\n",
    "navegador.get('https://www.hashtagtreinamentos.com/')"
   ]
  },
  {
   "cell_type": "markdown",
   "id": "18e04122",
   "metadata": {},
   "source": [
    "### Abrir o site e clicar no botão:\n"
   ]
  },
  {
   "cell_type": "code",
   "execution_count": 28,
   "id": "e8c8fbe2",
   "metadata": {},
   "outputs": [],
   "source": [
    "navegador.find_element(By.XPATH, '/html/body/section[1]/div/div/div/div/div[1]/a[1]').click()\n",
    "navegador.implicitly_wait(10)"
   ]
  },
  {
   "cell_type": "markdown",
   "id": "a249dee9",
   "metadata": {},
   "source": [
    "### Pegar todos os links das imagens:\n",
    "- Primeiro armazenar em uma variavel;\n",
    "- Segundo como são vários links vamos usar o find_elements() que retorna uma lisa;\n",
    "- Terceiro vamos localizar pela TAG_NAME;\n",
    "- Quarto printar parar saber o tamanho da lista ou seja confirmar se pegou todas as 'figure';"
   ]
  },
  {
   "cell_type": "code",
   "execution_count": 29,
   "id": "91d61972",
   "metadata": {},
   "outputs": [
    {
     "name": "stdout",
     "output_type": "stream",
     "text": [
      "4\n"
     ]
    }
   ],
   "source": [
    "lista_elementos = navegador.find_elements(By.TAG_NAME, 'figure')\n",
    "print(len(lista_elementos))"
   ]
  },
  {
   "cell_type": "markdown",
   "id": "4d61b0ce",
   "metadata": {},
   "source": [
    "### Percorrer os elementos da lista:\n",
    "- Quinto percorrer os elementos da lista;\n",
    "- Sexto pegar a variavel do for e fazer um find_element() pela TAG_NAME do link;\n",
    "- Setimo pegar o atributo do link\n",
    "- Oitavo Armazenar em uma váriavel \n",
    "- Nono printar os links"
   ]
  },
  {
   "cell_type": "code",
   "execution_count": 30,
   "id": "a1e5ca44",
   "metadata": {},
   "outputs": [
    {
     "name": "stdout",
     "output_type": "stream",
     "text": [
      "https://www.hashtagtreinamentos.com/curso-de-excel-online\n",
      "https://www.hashtagtreinamentos.com/curso-power-bi\n",
      "https://www.hashtagtreinamentos.com/curso-vba-excel\n"
     ]
    },
    {
     "ename": "NoSuchElementException",
     "evalue": "Message: no such element: Unable to locate element: {\"method\":\"css selector\",\"selector\":\"a\"}\n  (Session info: chrome=100.0.4896.88)\nStacktrace:\nBacktrace:\n\tOrdinal0 [0x00657413+2389011]\n\tOrdinal0 [0x005E9F61+1941345]\n\tOrdinal0 [0x004DC658+837208]\n\tOrdinal0 [0x005091DD+1020381]\n\tOrdinal0 [0x0050949B+1021083]\n\tOrdinal0 [0x004FF9F1+981489]\n\tOrdinal0 [0x00524194+1130900]\n\tOrdinal0 [0x004FF974+981364]\n\tOrdinal0 [0x00524364+1131364]\n\tOrdinal0 [0x00534302+1196802]\n\tOrdinal0 [0x00523F66+1130342]\n\tOrdinal0 [0x004FE546+976198]\n\tOrdinal0 [0x004FF456+980054]\n\tGetHandleVerifier [0x00809632+1727522]\n\tGetHandleVerifier [0x008BBA4D+2457661]\n\tGetHandleVerifier [0x006EEB81+569713]\n\tGetHandleVerifier [0x006EDD76+566118]\n\tOrdinal0 [0x005F0B2B+1968939]\n\tOrdinal0 [0x005F5988+1989000]\n\tOrdinal0 [0x005F5A75+1989237]\n\tOrdinal0 [0x005FECB1+2026673]\n\tBaseThreadInitThunk [0x758AFA29+25]\n\tRtlGetAppContainerNamedObjectPath [0x772E7A7E+286]\n\tRtlGetAppContainerNamedObjectPath [0x772E7A4E+238]\n",
     "output_type": "error",
     "traceback": [
      "\u001b[1;31m---------------------------------------------------------------------------\u001b[0m",
      "\u001b[1;31mNoSuchElementException\u001b[0m                    Traceback (most recent call last)",
      "\u001b[1;32m<ipython-input-30-2076d5c6761f>\u001b[0m in \u001b[0;36m<module>\u001b[1;34m\u001b[0m\n\u001b[0;32m      1\u001b[0m \u001b[1;32mfor\u001b[0m \u001b[0melemento\u001b[0m \u001b[1;32min\u001b[0m \u001b[0mlista_elementos\u001b[0m\u001b[1;33m:\u001b[0m\u001b[1;33m\u001b[0m\u001b[1;33m\u001b[0m\u001b[0m\n\u001b[1;32m----> 2\u001b[1;33m     \u001b[0mlinks\u001b[0m \u001b[1;33m=\u001b[0m \u001b[0melemento\u001b[0m\u001b[1;33m.\u001b[0m\u001b[0mfind_element\u001b[0m\u001b[1;33m(\u001b[0m\u001b[0mBy\u001b[0m\u001b[1;33m.\u001b[0m\u001b[0mTAG_NAME\u001b[0m\u001b[1;33m,\u001b[0m \u001b[1;34m'a'\u001b[0m\u001b[1;33m)\u001b[0m\u001b[1;33m.\u001b[0m\u001b[0mget_attribute\u001b[0m\u001b[1;33m(\u001b[0m\u001b[1;34m'href'\u001b[0m\u001b[1;33m)\u001b[0m\u001b[1;33m\u001b[0m\u001b[1;33m\u001b[0m\u001b[0m\n\u001b[0m\u001b[0;32m      3\u001b[0m     \u001b[0mprint\u001b[0m\u001b[1;33m(\u001b[0m\u001b[0mlinks\u001b[0m\u001b[1;33m)\u001b[0m\u001b[1;33m\u001b[0m\u001b[1;33m\u001b[0m\u001b[0m\n",
      "\u001b[1;32m~\\anaconda3\\lib\\site-packages\\selenium\\webdriver\\remote\\webelement.py\u001b[0m in \u001b[0;36mfind_element\u001b[1;34m(self, by, value)\u001b[0m\n\u001b[0;32m    733\u001b[0m             \u001b[0mvalue\u001b[0m \u001b[1;33m=\u001b[0m \u001b[1;34m'[name=\"%s\"]'\u001b[0m \u001b[1;33m%\u001b[0m \u001b[0mvalue\u001b[0m\u001b[1;33m\u001b[0m\u001b[1;33m\u001b[0m\u001b[0m\n\u001b[0;32m    734\u001b[0m \u001b[1;33m\u001b[0m\u001b[0m\n\u001b[1;32m--> 735\u001b[1;33m         return self._execute(Command.FIND_CHILD_ELEMENT,\n\u001b[0m\u001b[0;32m    736\u001b[0m                              {\"using\": by, \"value\": value})['value']\n\u001b[0;32m    737\u001b[0m \u001b[1;33m\u001b[0m\u001b[0m\n",
      "\u001b[1;32m~\\anaconda3\\lib\\site-packages\\selenium\\webdriver\\remote\\webelement.py\u001b[0m in \u001b[0;36m_execute\u001b[1;34m(self, command, params)\u001b[0m\n\u001b[0;32m    708\u001b[0m             \u001b[0mparams\u001b[0m \u001b[1;33m=\u001b[0m \u001b[1;33m{\u001b[0m\u001b[1;33m}\u001b[0m\u001b[1;33m\u001b[0m\u001b[1;33m\u001b[0m\u001b[0m\n\u001b[0;32m    709\u001b[0m         \u001b[0mparams\u001b[0m\u001b[1;33m[\u001b[0m\u001b[1;34m'id'\u001b[0m\u001b[1;33m]\u001b[0m \u001b[1;33m=\u001b[0m \u001b[0mself\u001b[0m\u001b[1;33m.\u001b[0m\u001b[0m_id\u001b[0m\u001b[1;33m\u001b[0m\u001b[1;33m\u001b[0m\u001b[0m\n\u001b[1;32m--> 710\u001b[1;33m         \u001b[1;32mreturn\u001b[0m \u001b[0mself\u001b[0m\u001b[1;33m.\u001b[0m\u001b[0m_parent\u001b[0m\u001b[1;33m.\u001b[0m\u001b[0mexecute\u001b[0m\u001b[1;33m(\u001b[0m\u001b[0mcommand\u001b[0m\u001b[1;33m,\u001b[0m \u001b[0mparams\u001b[0m\u001b[1;33m)\u001b[0m\u001b[1;33m\u001b[0m\u001b[1;33m\u001b[0m\u001b[0m\n\u001b[0m\u001b[0;32m    711\u001b[0m \u001b[1;33m\u001b[0m\u001b[0m\n\u001b[0;32m    712\u001b[0m     \u001b[1;32mdef\u001b[0m \u001b[0mfind_element\u001b[0m\u001b[1;33m(\u001b[0m\u001b[0mself\u001b[0m\u001b[1;33m,\u001b[0m \u001b[0mby\u001b[0m\u001b[1;33m=\u001b[0m\u001b[0mBy\u001b[0m\u001b[1;33m.\u001b[0m\u001b[0mID\u001b[0m\u001b[1;33m,\u001b[0m \u001b[0mvalue\u001b[0m\u001b[1;33m=\u001b[0m\u001b[1;32mNone\u001b[0m\u001b[1;33m)\u001b[0m\u001b[1;33m:\u001b[0m\u001b[1;33m\u001b[0m\u001b[1;33m\u001b[0m\u001b[0m\n",
      "\u001b[1;32m~\\anaconda3\\lib\\site-packages\\selenium\\webdriver\\remote\\webdriver.py\u001b[0m in \u001b[0;36mexecute\u001b[1;34m(self, driver_command, params)\u001b[0m\n\u001b[0;32m    423\u001b[0m         \u001b[0mresponse\u001b[0m \u001b[1;33m=\u001b[0m \u001b[0mself\u001b[0m\u001b[1;33m.\u001b[0m\u001b[0mcommand_executor\u001b[0m\u001b[1;33m.\u001b[0m\u001b[0mexecute\u001b[0m\u001b[1;33m(\u001b[0m\u001b[0mdriver_command\u001b[0m\u001b[1;33m,\u001b[0m \u001b[0mparams\u001b[0m\u001b[1;33m)\u001b[0m\u001b[1;33m\u001b[0m\u001b[1;33m\u001b[0m\u001b[0m\n\u001b[0;32m    424\u001b[0m         \u001b[1;32mif\u001b[0m \u001b[0mresponse\u001b[0m\u001b[1;33m:\u001b[0m\u001b[1;33m\u001b[0m\u001b[1;33m\u001b[0m\u001b[0m\n\u001b[1;32m--> 425\u001b[1;33m             \u001b[0mself\u001b[0m\u001b[1;33m.\u001b[0m\u001b[0merror_handler\u001b[0m\u001b[1;33m.\u001b[0m\u001b[0mcheck_response\u001b[0m\u001b[1;33m(\u001b[0m\u001b[0mresponse\u001b[0m\u001b[1;33m)\u001b[0m\u001b[1;33m\u001b[0m\u001b[1;33m\u001b[0m\u001b[0m\n\u001b[0m\u001b[0;32m    426\u001b[0m             response['value'] = self._unwrap_value(\n\u001b[0;32m    427\u001b[0m                 response.get('value', None))\n",
      "\u001b[1;32m~\\anaconda3\\lib\\site-packages\\selenium\\webdriver\\remote\\errorhandler.py\u001b[0m in \u001b[0;36mcheck_response\u001b[1;34m(self, response)\u001b[0m\n\u001b[0;32m    245\u001b[0m                 \u001b[0malert_text\u001b[0m \u001b[1;33m=\u001b[0m \u001b[0mvalue\u001b[0m\u001b[1;33m[\u001b[0m\u001b[1;34m'alert'\u001b[0m\u001b[1;33m]\u001b[0m\u001b[1;33m.\u001b[0m\u001b[0mget\u001b[0m\u001b[1;33m(\u001b[0m\u001b[1;34m'text'\u001b[0m\u001b[1;33m)\u001b[0m\u001b[1;33m\u001b[0m\u001b[1;33m\u001b[0m\u001b[0m\n\u001b[0;32m    246\u001b[0m             \u001b[1;32mraise\u001b[0m \u001b[0mexception_class\u001b[0m\u001b[1;33m(\u001b[0m\u001b[0mmessage\u001b[0m\u001b[1;33m,\u001b[0m \u001b[0mscreen\u001b[0m\u001b[1;33m,\u001b[0m \u001b[0mstacktrace\u001b[0m\u001b[1;33m,\u001b[0m \u001b[0malert_text\u001b[0m\u001b[1;33m)\u001b[0m  \u001b[1;31m# type: ignore[call-arg]  # mypy is not smart enough here\u001b[0m\u001b[1;33m\u001b[0m\u001b[1;33m\u001b[0m\u001b[0m\n\u001b[1;32m--> 247\u001b[1;33m         \u001b[1;32mraise\u001b[0m \u001b[0mexception_class\u001b[0m\u001b[1;33m(\u001b[0m\u001b[0mmessage\u001b[0m\u001b[1;33m,\u001b[0m \u001b[0mscreen\u001b[0m\u001b[1;33m,\u001b[0m \u001b[0mstacktrace\u001b[0m\u001b[1;33m)\u001b[0m\u001b[1;33m\u001b[0m\u001b[1;33m\u001b[0m\u001b[0m\n\u001b[0m\u001b[0;32m    248\u001b[0m \u001b[1;33m\u001b[0m\u001b[0m\n\u001b[0;32m    249\u001b[0m     \u001b[1;32mdef\u001b[0m \u001b[0m_value_or_default\u001b[0m\u001b[1;33m(\u001b[0m\u001b[0mself\u001b[0m\u001b[1;33m,\u001b[0m \u001b[0mobj\u001b[0m\u001b[1;33m:\u001b[0m \u001b[0mMapping\u001b[0m\u001b[1;33m[\u001b[0m\u001b[0m_KT\u001b[0m\u001b[1;33m,\u001b[0m \u001b[0m_VT\u001b[0m\u001b[1;33m]\u001b[0m\u001b[1;33m,\u001b[0m \u001b[0mkey\u001b[0m\u001b[1;33m:\u001b[0m \u001b[0m_KT\u001b[0m\u001b[1;33m,\u001b[0m \u001b[0mdefault\u001b[0m\u001b[1;33m:\u001b[0m \u001b[0m_VT\u001b[0m\u001b[1;33m)\u001b[0m \u001b[1;33m->\u001b[0m \u001b[0m_VT\u001b[0m\u001b[1;33m:\u001b[0m\u001b[1;33m\u001b[0m\u001b[1;33m\u001b[0m\u001b[0m\n",
      "\u001b[1;31mNoSuchElementException\u001b[0m: Message: no such element: Unable to locate element: {\"method\":\"css selector\",\"selector\":\"a\"}\n  (Session info: chrome=100.0.4896.88)\nStacktrace:\nBacktrace:\n\tOrdinal0 [0x00657413+2389011]\n\tOrdinal0 [0x005E9F61+1941345]\n\tOrdinal0 [0x004DC658+837208]\n\tOrdinal0 [0x005091DD+1020381]\n\tOrdinal0 [0x0050949B+1021083]\n\tOrdinal0 [0x004FF9F1+981489]\n\tOrdinal0 [0x00524194+1130900]\n\tOrdinal0 [0x004FF974+981364]\n\tOrdinal0 [0x00524364+1131364]\n\tOrdinal0 [0x00534302+1196802]\n\tOrdinal0 [0x00523F66+1130342]\n\tOrdinal0 [0x004FE546+976198]\n\tOrdinal0 [0x004FF456+980054]\n\tGetHandleVerifier [0x00809632+1727522]\n\tGetHandleVerifier [0x008BBA4D+2457661]\n\tGetHandleVerifier [0x006EEB81+569713]\n\tGetHandleVerifier [0x006EDD76+566118]\n\tOrdinal0 [0x005F0B2B+1968939]\n\tOrdinal0 [0x005F5988+1989000]\n\tOrdinal0 [0x005F5A75+1989237]\n\tOrdinal0 [0x005FECB1+2026673]\n\tBaseThreadInitThunk [0x758AFA29+25]\n\tRtlGetAppContainerNamedObjectPath [0x772E7A7E+286]\n\tRtlGetAppContainerNamedObjectPath [0x772E7A4E+238]\n"
     ]
    }
   ],
   "source": [
    "for elemento in lista_elementos:\n",
    "    links = elemento.find_element(By.TAG_NAME, 'a').get_attribute('href')\n",
    "    print(links)"
   ]
  }
 ],
 "metadata": {
  "kernelspec": {
   "display_name": "Python 3",
   "language": "python",
   "name": "python3"
  },
  "language_info": {
   "codemirror_mode": {
    "name": "ipython",
    "version": 3
   },
   "file_extension": ".py",
   "mimetype": "text/x-python",
   "name": "python",
   "nbconvert_exporter": "python",
   "pygments_lexer": "ipython3",
   "version": "3.8.8"
  }
 },
 "nbformat": 4,
 "nbformat_minor": 5
}
