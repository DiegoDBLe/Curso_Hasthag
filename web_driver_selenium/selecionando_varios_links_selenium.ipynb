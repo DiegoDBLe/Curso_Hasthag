{
 "cells": [
  {
   "cell_type": "code",
   "execution_count": null,
   "id": "1c3e5c3b",
   "metadata": {},
   "outputs": [],
   "source": [
    "from selenium import webdriver\n",
    "from  selenium.webdriver.common.by import By\n",
    "\n",
    "navegador = webdriver.Chrome()\n",
    "\n",
    "navegador.get('https://www.hashtagtreinamentos.com/')"
   ]
  },
  {
   "cell_type": "markdown",
   "id": "18e04122",
   "metadata": {},
   "source": [
    "### Abrir o site e clicar no botão:\n"
   ]
  },
  {
   "cell_type": "code",
   "execution_count": null,
   "id": "e8c8fbe2",
   "metadata": {},
   "outputs": [],
   "source": [
    "navegador.find_element(By.XPATH, '/html/body/div[1]/div[1]/div/div/div[1]/a[1]').click()\n",
    "navegador.implicitly_wait(10)"
   ]
  },
  {
   "cell_type": "markdown",
   "id": "a249dee9",
   "metadata": {},
   "source": [
    "### Pegar todos os links das imagens:\n",
    "- Primeiro armazenar em uma variavel;\n",
    "- Segundo como são vários links vamos usar o find_elements() que retorna uma lisa;\n",
    "- Terceiro vamos localizar pela TAG_NAME;\n",
    "- Quarto printar parar saber o tamanho da lista ou seja confirmar se pegou todas as 'figure';"
   ]
  },
  {
   "cell_type": "code",
   "execution_count": null,
   "id": "91d61972",
   "metadata": {},
   "outputs": [],
   "source": [
    "lista_elementos = navegador.find_elements(By.TAG_NAME, 'figure')\n",
    "print(len(lista_elementos))"
   ]
  },
  {
   "cell_type": "markdown",
   "id": "4d61b0ce",
   "metadata": {},
   "source": [
    "### Percorrer os elementos da lista:\n",
    "- Quinto percorrer os elementos da lista;\n",
    "- Sexto pegar a variavel do for e fazer um find_element() pela TAG_NAME do link;\n",
    "- Setimo pegar o atributo do link\n",
    "- Oitavo Armazenar em uma váriavel \n",
    "- Nono printar os links"
   ]
  },
  {
   "cell_type": "code",
   "execution_count": null,
   "id": "a1e5ca44",
   "metadata": {},
   "outputs": [],
   "source": [
    "for elemento in lista_elementos:\n",
    "    try:\n",
    "        links = elemento.find_element(By.TAG_NAME, 'a').get_attribute('href')\n",
    "        print(links)\n",
    "    except:\n",
    "        continue\n",
    "        "
   ]
  },
  {
   "cell_type": "code",
   "execution_count": null,
   "id": "386bbc89",
   "metadata": {},
   "outputs": [],
   "source": []
  }
 ],
 "metadata": {
  "kernelspec": {
   "display_name": "Python 3",
   "language": "python",
   "name": "python3"
  },
  "language_info": {
   "codemirror_mode": {
    "name": "ipython",
    "version": 3
   },
   "file_extension": ".py",
   "mimetype": "text/x-python",
   "name": "python",
   "nbconvert_exporter": "python",
   "pygments_lexer": "ipython3",
   "version": "3.8.8"
  }
 },
 "nbformat": 4,
 "nbformat_minor": 5
}
