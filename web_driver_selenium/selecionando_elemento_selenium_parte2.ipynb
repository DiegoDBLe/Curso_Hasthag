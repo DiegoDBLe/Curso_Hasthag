{
 "cells": [
  {
   "cell_type": "code",
   "execution_count": 197,
   "id": "400431a4",
   "metadata": {},
   "outputs": [],
   "source": [
    "from selenium import webdriver\n",
    "\n",
    "navegador = webdriver.Chrome()"
   ]
  },
  {
   "cell_type": "code",
   "execution_count": 198,
   "id": "9626bb12",
   "metadata": {},
   "outputs": [],
   "source": [
    "navegador.get('https://www.hashtagtreinamentos.com/')"
   ]
  },
  {
   "cell_type": "markdown",
   "id": "fb83bd43",
   "metadata": {},
   "source": [
    "###  Selecionando pela tag:\n",
    "- Selecionando o titulo do site"
   ]
  },
  {
   "cell_type": "code",
   "execution_count": 199,
   "id": "96fc0e09",
   "metadata": {},
   "outputs": [
    {
     "name": "stdout",
     "output_type": "stream",
     "text": [
      "Torne-se uma referência no Mercado de Trabalho com a Hashtag Treinamentos\n"
     ]
    }
   ],
   "source": [
    "from selenium.webdriver.common.by import By\n",
    "\n",
    "titulo_h1 = navegador.find_element(By.TAG_NAME, 'h1').text\n",
    "print(titulo_h1)"
   ]
  },
  {
   "cell_type": "markdown",
   "id": "bbd498d8",
   "metadata": {},
   "source": [
    "###  Selecionando pelo Partial Link Text (ou Link_TEXT):\n",
    "- Quero conseguir pegar o número de watsapp de contato.\n",
    "- Partial Link Text (Ele pega atarves de uma parte escrita no link)\n",
    "- Link_TEXT (Ele pega com o nome do link completo)"
   ]
  },
  {
   "cell_type": "code",
   "execution_count": 200,
   "id": "31431d04",
   "metadata": {},
   "outputs": [
    {
     "name": "stdout",
     "output_type": "stream",
     "text": [
      "(21) 99865-8852 (WhatsApp)\n"
     ]
    }
   ],
   "source": [
    "numero_watsap = navegador.find_element(By.PARTIAL_LINK_TEXT, 'WhatsApp').text\n",
    "print(numero_watsap)"
   ]
  },
  {
   "cell_type": "markdown",
   "id": "74b300bb",
   "metadata": {},
   "source": [
    "### Selecionando pelo nome:\n",
    "- Preencher dformulário"
   ]
  },
  {
   "cell_type": "code",
   "execution_count": 201,
   "id": "ac4e1c85",
   "metadata": {},
   "outputs": [],
   "source": [
    "navegador.find_element(By.ID, 'email').send_keys('deigo_batista@hotmail.com')"
   ]
  }
 ],
 "metadata": {
  "kernelspec": {
   "display_name": "Python 3",
   "language": "python",
   "name": "python3"
  },
  "language_info": {
   "codemirror_mode": {
    "name": "ipython",
    "version": 3
   },
   "file_extension": ".py",
   "mimetype": "text/x-python",
   "name": "python",
   "nbconvert_exporter": "python",
   "pygments_lexer": "ipython3",
   "version": "3.8.8"
  }
 },
 "nbformat": 4,
 "nbformat_minor": 5
}
