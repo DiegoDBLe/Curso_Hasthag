{
 "cells": [
  {
   "cell_type": "code",
   "execution_count": 2,
   "id": "211d1743",
   "metadata": {},
   "outputs": [],
   "source": [
    "from selenium import webdriver\n",
    "from  selenium.webdriver.common.by import By\n",
    "\n",
    "navegador = webdriver.Chrome()\n",
    "\n",
    "navegador.get('https://www.hashtagtreinamentos.com/')"
   ]
  },
  {
   "cell_type": "markdown",
   "id": "818fe867",
   "metadata": {},
   "source": [
    "### Selecionando vários elementos de uma vez:\n",
    "- Vamos selecionar pelo find_elements\n",
    "- vamos clicar no item Blog do menu\n",
    "- O método find_elements devolve uma lista de elementos, ele tem que ser do mesmo 'nome'."
   ]
  },
  {
   "cell_type": "code",
   "execution_count": 3,
   "id": "815edf0f",
   "metadata": {},
   "outputs": [],
   "source": [
    "lista_elementos = navegador.find_elements(By.CLASS_NAME, 'nav-link')\n",
    "for elemento in lista_elementos:\n",
    "    if \"blog\" in elemento.text.lower():\n",
    "        elemento.click()\n",
    "        break"
   ]
  }
 ],
 "metadata": {
  "kernelspec": {
   "display_name": "Python 3",
   "language": "python",
   "name": "python3"
  },
  "language_info": {
   "codemirror_mode": {
    "name": "ipython",
    "version": 3
   },
   "file_extension": ".py",
   "mimetype": "text/x-python",
   "name": "python",
   "nbconvert_exporter": "python",
   "pygments_lexer": "ipython3",
   "version": "3.8.8"
  }
 },
 "nbformat": 4,
 "nbformat_minor": 5
}
