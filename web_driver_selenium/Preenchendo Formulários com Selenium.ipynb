{
 "cells": [
  {
   "cell_type": "code",
   "execution_count": 923,
   "id": "d82101c5",
   "metadata": {},
   "outputs": [],
   "source": [
    "from selenium import webdriver\n",
    "from  selenium.webdriver.common.by import By\n",
    "\n",
    "navegador = webdriver.Chrome()"
   ]
  },
  {
   "cell_type": "code",
   "execution_count": 924,
   "id": "3f0ab2d6",
   "metadata": {},
   "outputs": [],
   "source": [
    "import os\n",
    "\n",
    "caminho = os.getcwd()\n",
    "arquivo = caminho + r\"\\formulario.html\"\n",
    "navegador.get(arquivo)"
   ]
  },
  {
   "cell_type": "markdown",
   "id": "5bbd68ab",
   "metadata": {},
   "source": [
    "### Clicar em Botão:"
   ]
  },
  {
   "cell_type": "code",
   "execution_count": 925,
   "id": "8383a22f",
   "metadata": {},
   "outputs": [],
   "source": [
    "navegador.find_element(By.XPATH, '/html/body/form/input[1]').click()"
   ]
  },
  {
   "cell_type": "markdown",
   "id": "02c395b7",
   "metadata": {},
   "source": [
    "### Aceitando o pop-up(alerta)\n",
    "- Como ele não é um elemento da página e sim do navegador.\n",
    "- Crio uma variavel que recebe o meu navegador.switch_to.alert\n",
    "- navegador.switch_to.alert -> Siginifica que estou mudando o meu popup para um alerta, posso mudar para varios outras coisas.\n",
    "- Crio outra variavel que recebe a variavel anterior .aceppt para aceita o alerta da pagina ou .dismiss() para recusar o alerta da página."
   ]
  },
  {
   "cell_type": "code",
   "execution_count": 926,
   "id": "82461049",
   "metadata": {},
   "outputs": [],
   "source": [
    "alerta = navegador.switch_to.alert\n",
    "alerta.accept()"
   ]
  },
  {
   "cell_type": "markdown",
   "id": "43076c77",
   "metadata": {},
   "source": [
    "### Dica:  Esteja atento ao atributo 'value' dos inputs, ele pode te ajudar bastante\n",
    "- .text()\n",
    "- .get_atribute('value')\n",
    "- .is_selected"
   ]
  },
  {
   "cell_type": "markdown",
   "id": "2af30393",
   "metadata": {},
   "source": [
    "## Botão de Seleção estilo Checkbox (clicar no botão)"
   ]
  },
  {
   "cell_type": "markdown",
   "id": "7143a177",
   "metadata": {},
   "source": [
    "#### Clicando no segundo chachbox:"
   ]
  },
  {
   "cell_type": "code",
   "execution_count": 927,
   "id": "fb660f0f",
   "metadata": {},
   "outputs": [],
   "source": [
    "navegador.find_element(By.XPATH, '/html/body/form/input[3]').click()"
   ]
  },
  {
   "cell_type": "markdown",
   "id": "5c655b49",
   "metadata": {},
   "source": [
    "#### Pegado o valor do checkbox(verificando se está selecionado):"
   ]
  },
  {
   "cell_type": "code",
   "execution_count": 928,
   "id": "c27e103f",
   "metadata": {},
   "outputs": [
    {
     "name": "stdout",
     "output_type": "stream",
     "text": [
      "Selecionado\n"
     ]
    }
   ],
   "source": [
    "valor = navegador.find_element(By.XPATH, '/html/body/form/input[3]').is_selected()\n",
    "if valor:\n",
    "    print('Selecionado')\n"
   ]
  },
  {
   "cell_type": "markdown",
   "id": "9a5148af",
   "metadata": {},
   "source": [
    "## Botão de Seleção de Cores: (Enviar cores) e pegar informação da coler preenchida no input\n"
   ]
  },
  {
   "cell_type": "markdown",
   "id": "4c2c0834",
   "metadata": {},
   "source": [
    "#### Preenchendo a cor:"
   ]
  },
  {
   "cell_type": "code",
   "execution_count": 929,
   "id": "67731cfe",
   "metadata": {},
   "outputs": [],
   "source": [
    "navegador.find_element(By.XPATH, '/html/body/form/input[4]').send_keys('#2143E8')"
   ]
  },
  {
   "cell_type": "markdown",
   "id": "f87ed919",
   "metadata": {},
   "source": [
    "#### Pegadno a cor que está preenchida no input:"
   ]
  },
  {
   "cell_type": "code",
   "execution_count": 930,
   "id": "001af74b",
   "metadata": {},
   "outputs": [
    {
     "name": "stdout",
     "output_type": "stream",
     "text": [
      "Preto\n"
     ]
    }
   ],
   "source": [
    "cor = navegador.find_element(By.XPATH, '/html/body/form/input[5]').get_attribute('value')\n",
    "if cor == '#000000':\n",
    "    print('Preto')"
   ]
  },
  {
   "cell_type": "markdown",
   "id": "ffe43a51",
   "metadata": {},
   "source": [
    "## Botão de Datas (enviar valor):"
   ]
  },
  {
   "cell_type": "markdown",
   "id": "a7498d27",
   "metadata": {},
   "source": [
    "#### Passando um valor para o input Data:"
   ]
  },
  {
   "cell_type": "code",
   "execution_count": 931,
   "id": "a1912391",
   "metadata": {},
   "outputs": [],
   "source": [
    "navegador.find_element(By.XPATH, '/html/body/form/input[6]').send_keys('18/02/1988')"
   ]
  },
  {
   "cell_type": "markdown",
   "id": "0adaa3e7",
   "metadata": {},
   "source": [
    "#### Pegando o valor do input Data"
   ]
  },
  {
   "cell_type": "code",
   "execution_count": 932,
   "id": "fdc24501",
   "metadata": {},
   "outputs": [
    {
     "name": "stdout",
     "output_type": "stream",
     "text": [
      "1988-02-18\n"
     ]
    }
   ],
   "source": [
    "data = navegador.find_element(By.XPATH, '/html/body/form/input[6]').get_attribute('value')\n",
    "print(data)"
   ]
  },
  {
   "cell_type": "markdown",
   "id": "6d96d166",
   "metadata": {},
   "source": [
    "## Botão de Datas e Horas (enviar valor):\n",
    "- Neste exemplo conseguimos preencher a primeira parte da Data com o send_keys(), por na parte da hora não conseguimos pois precisa dar um TAB para selecionar a data.\n",
    "- Para selecionar os comandos do teclado, importamos a seguinte biblioteca do Selenium:\n",
    "- from selenium.webdriver.common.keys import Keys\n",
    "- Com essa biblioteca conseguimos colocar os comandos do teclado."
   ]
  },
  {
   "cell_type": "markdown",
   "id": "484a6cd7",
   "metadata": {},
   "source": [
    "#### Preenchendo o campo Data e Hr usando o Tab:"
   ]
  },
  {
   "cell_type": "code",
   "execution_count": 933,
   "id": "b933d89b",
   "metadata": {},
   "outputs": [],
   "source": [
    "from selenium.webdriver.common.keys import Keys\n",
    "\n",
    "navegador.find_element(By.XPATH, '/html/body/form/input[7]').send_keys('18/02/1988', Keys.TAB, '09:30')"
   ]
  },
  {
   "cell_type": "markdown",
   "id": "89beaf7e",
   "metadata": {},
   "source": [
    "#### Pegando o valor:"
   ]
  },
  {
   "cell_type": "code",
   "execution_count": 934,
   "id": "a3da4241",
   "metadata": {},
   "outputs": [
    {
     "name": "stdout",
     "output_type": "stream",
     "text": [
      "1988-02-18T09:30\n"
     ]
    }
   ],
   "source": [
    "data_hora = navegador.find_element(By.XPATH, '/html/body/form/input[7]').get_attribute('value')\n",
    "print(data_hora)"
   ]
  },
  {
   "cell_type": "markdown",
   "id": "63bd1f73",
   "metadata": {},
   "source": [
    "## Botão para selecionar o arquivo (enviar valor com caminho completo):"
   ]
  },
  {
   "cell_type": "markdown",
   "id": "b04c1dd2",
   "metadata": {},
   "source": [
    "#### Preenchendo o campo:"
   ]
  },
  {
   "cell_type": "code",
   "execution_count": 935,
   "id": "4e87b050",
   "metadata": {},
   "outputs": [],
   "source": [
    "caminho = os.getcwd()\n",
    "arquivo = caminho + r'\\formulario.html'\n",
    "\n",
    "navegador.find_element(By.XPATH, '/html/body/form/input[8]').send_keys(arquivo)"
   ]
  },
  {
   "cell_type": "markdown",
   "id": "77b23bd8",
   "metadata": {},
   "source": [
    "#### Pegando o valor do campo:"
   ]
  },
  {
   "cell_type": "code",
   "execution_count": 936,
   "id": "a9523265",
   "metadata": {},
   "outputs": [
    {
     "name": "stdout",
     "output_type": "stream",
     "text": [
      "C:\\fakepath\\formulario.html\n"
     ]
    }
   ],
   "source": [
    "upload = navegador.find_element(By.XPATH, '/html/body/form/input[8]').get_attribute('value')\n",
    "print(upload)"
   ]
  },
  {
   "cell_type": "markdown",
   "id": "fd03201a",
   "metadata": {},
   "source": [
    "## Botão para selecionar mês e ano(enviar valor)"
   ]
  },
  {
   "cell_type": "markdown",
   "id": "7cbda98b",
   "metadata": {},
   "source": [
    "#### Preenchando o campo:"
   ]
  },
  {
   "cell_type": "code",
   "execution_count": 937,
   "id": "c1228ec2",
   "metadata": {},
   "outputs": [],
   "source": [
    "navegador.find_element(By.XPATH, '/html/body/form/input[9]').send_keys('fevereiro', Keys.TAB, '1988')"
   ]
  },
  {
   "cell_type": "markdown",
   "id": "24429146",
   "metadata": {},
   "source": [
    "#### Pegando o valor do campo:"
   ]
  },
  {
   "cell_type": "code",
   "execution_count": 938,
   "id": "3371d864",
   "metadata": {},
   "outputs": [
    {
     "name": "stdout",
     "output_type": "stream",
     "text": [
      "1988-02\n"
     ]
    }
   ],
   "source": [
    "mes_ano = navegador.find_element(By.XPATH, '/html/body/form/input[9]').get_attribute('value')\n",
    "print(mes_ano)"
   ]
  },
  {
   "cell_type": "markdown",
   "id": "358474c9",
   "metadata": {},
   "source": [
    "## Campos númericos"
   ]
  },
  {
   "cell_type": "code",
   "execution_count": 939,
   "id": "bdd91193",
   "metadata": {},
   "outputs": [],
   "source": [
    "# Se eu quiser garantir que o campo esteja vazio para escrever uso o método .clear()\n",
    "navegador.find_element(By.XPATH, '/html/body/form/input[10]').clear()\n",
    "navegador.find_element(By.XPATH, '/html/body/form/input[10]').send_keys('123456')"
   ]
  },
  {
   "cell_type": "markdown",
   "id": "4c5219e5",
   "metadata": {},
   "source": [
    "## Campo Senha:"
   ]
  },
  {
   "cell_type": "code",
   "execution_count": 940,
   "id": "cd742f96",
   "metadata": {},
   "outputs": [],
   "source": [
    "navegador.find_element(By.XPATH, '/html/body/form/input[11]').send_keys('123456')"
   ]
  },
  {
   "cell_type": "markdown",
   "id": "81ef86c4",
   "metadata": {},
   "source": [
    "#### Pegando o valor do campo senha:"
   ]
  },
  {
   "cell_type": "code",
   "execution_count": 941,
   "id": "a2be16f7",
   "metadata": {},
   "outputs": [
    {
     "name": "stdout",
     "output_type": "stream",
     "text": [
      "123456\n"
     ]
    }
   ],
   "source": [
    "senha = navegador.find_element(By.XPATH, '/html/body/form/input[11]').get_attribute('value')\n",
    "print(senha)"
   ]
  },
  {
   "cell_type": "markdown",
   "id": "1115cb3a",
   "metadata": {},
   "source": [
    "## RadioButtons (botões que só conseguem marcar 1)"
   ]
  },
  {
   "cell_type": "code",
   "execution_count": 942,
   "id": "b7480cbb",
   "metadata": {},
   "outputs": [],
   "source": [
    "navegador.find_element(By.XPATH, '/html/body/form/input[14]').click()"
   ]
  },
  {
   "cell_type": "markdown",
   "id": "0508ceff",
   "metadata": {},
   "source": [
    "#### Verificando se o radiobutton ta selecionado:"
   ]
  },
  {
   "cell_type": "code",
   "execution_count": 943,
   "id": "b1622a13",
   "metadata": {},
   "outputs": [
    {
     "data": {
      "text/plain": [
       "True"
      ]
     },
     "execution_count": 943,
     "metadata": {},
     "output_type": "execute_result"
    }
   ],
   "source": [
    "navegador.find_element(By.XPATH, '/html/body/form/input[14]').is_selected()"
   ]
  },
  {
   "cell_type": "markdown",
   "id": "7bbadb2e",
   "metadata": {},
   "source": [
    "## Caixa de Texto:"
   ]
  },
  {
   "cell_type": "code",
   "execution_count": 944,
   "id": "879c06f4",
   "metadata": {},
   "outputs": [],
   "source": [
    "navegador.find_element(By.XPATH, '/html/body/form/input[16]').send_keys('Santos')"
   ]
  },
  {
   "cell_type": "code",
   "execution_count": 945,
   "id": "37071b81",
   "metadata": {},
   "outputs": [
    {
     "name": "stdout",
     "output_type": "stream",
     "text": [
      "Santos\n"
     ]
    }
   ],
   "source": [
    "# Pegando o valor da caixa de texto:\n",
    "caixa = navegador.find_element(By.XPATH, '/html/body/form/input[16]').get_attribute('value')\n",
    "print(caixa)"
   ]
  },
  {
   "cell_type": "markdown",
   "id": "15c9df69",
   "metadata": {},
   "source": [
    "## Caixa de horas:"
   ]
  },
  {
   "cell_type": "code",
   "execution_count": 946,
   "id": "71194766",
   "metadata": {},
   "outputs": [],
   "source": [
    "navegador.find_element(By.XPATH, '/html/body/form/input[17]').send_keys('15:15')"
   ]
  },
  {
   "cell_type": "markdown",
   "id": "b2c8914e",
   "metadata": {},
   "source": [
    "## Caixa de Data Personalizada(semanal):"
   ]
  },
  {
   "cell_type": "code",
   "execution_count": 947,
   "id": "b57b2b00",
   "metadata": {},
   "outputs": [],
   "source": [
    "navegador.find_element(By.XPATH, '/html/body/form/input[18]').send_keys('17', '2002')"
   ]
  },
  {
   "cell_type": "code",
   "execution_count": 948,
   "id": "70eb1869",
   "metadata": {},
   "outputs": [
    {
     "name": "stdout",
     "output_type": "stream",
     "text": [
      "2002-W17\n"
     ]
    }
   ],
   "source": [
    "# Pegando o valor:\n",
    "data = navegador.find_element(By.XPATH, '/html/body/form/input[18]').get_attribute('value')\n",
    "print(data)"
   ]
  },
  {
   "cell_type": "markdown",
   "id": "f9a38a4e",
   "metadata": {},
   "source": [
    "## Bloco de Texto:"
   ]
  },
  {
   "cell_type": "code",
   "execution_count": 949,
   "id": "cf8ae403",
   "metadata": {},
   "outputs": [],
   "source": [
    "navegador.find_element(By.XPATH, '//*[@id=\"story\"]').send_keys('Olá', Keys.ENTER, 'Tudo bom?', Keys.ENTER, \n",
    "                                                               'Me manda o relatório do dia!')"
   ]
  },
  {
   "cell_type": "code",
   "execution_count": 950,
   "id": "5aed9524",
   "metadata": {},
   "outputs": [
    {
     "name": "stdout",
     "output_type": "stream",
     "text": [
      "Olá\n",
      "Tudo bom?\n",
      "Me manda o relatório do dia!\n"
     ]
    }
   ],
   "source": [
    "# Pegando o valor do Bloco de texto:\n",
    "\n",
    "bloco = navegador.find_element(By.XPATH, '//*[@id=\"story\"]').get_attribute('value')\n",
    "print(bloco)"
   ]
  },
  {
   "cell_type": "markdown",
   "id": "82efd499",
   "metadata": {},
   "source": [
    "## Slider (enviando valor):"
   ]
  },
  {
   "cell_type": "markdown",
   "id": "f9cd63c7",
   "metadata": {},
   "source": [
    "#### Pegar o valor"
   ]
  },
  {
   "cell_type": "code",
   "execution_count": 951,
   "id": "2e5fb75b",
   "metadata": {},
   "outputs": [
    {
     "name": "stdout",
     "output_type": "stream",
     "text": [
      "50\n"
     ]
    }
   ],
   "source": [
    "valor = navegador.find_element(By.XPATH, '/html/body/form/input[15]').get_attribute('value')\n",
    "print(valor)"
   ]
  },
  {
   "cell_type": "markdown",
   "id": "9ef10cae",
   "metadata": {},
   "source": [
    "#### Preencher o valor"
   ]
  },
  {
   "cell_type": "code",
   "execution_count": 952,
   "id": "44850c5e",
   "metadata": {},
   "outputs": [],
   "source": [
    "elemento =  navegador.find_element(By.XPATH, '/html/body/form/input[15]')\n",
    "elemento.clear()\n",
    "\n",
    "for i in range(70 - 50):\n",
    "    elemento.send_keys(Keys.ARROW_RIGHT) # aperta a tecla seta para direita 20x"
   ]
  },
  {
   "cell_type": "markdown",
   "id": "ea6980d1",
   "metadata": {},
   "source": [
    "## Selecionar os itens de uma lista:"
   ]
  },
  {
   "cell_type": "code",
   "execution_count": 953,
   "id": "44f444fd",
   "metadata": {},
   "outputs": [],
   "source": [
    "# Preencher o valor:\n",
    "navegador.find_element(By.XPATH, '/html/body/form/select[1]').send_keys('B')"
   ]
  },
  {
   "cell_type": "code",
   "execution_count": 954,
   "id": "fd73389a",
   "metadata": {},
   "outputs": [
    {
     "name": "stdout",
     "output_type": "stream",
     "text": [
      "b\n"
     ]
    }
   ],
   "source": [
    "# Pegando o valor:\n",
    "valor = navegador.find_element(By.XPATH, '/html/body/form/select[1]').get_attribute('value')\n",
    "print(valor)"
   ]
  },
  {
   "cell_type": "code",
   "execution_count": 955,
   "id": "fe1415a2",
   "metadata": {},
   "outputs": [],
   "source": [
    "# Outra maneira é clicando na lista suspensa, espera aparecer a lista e pega o XPATH da opção que deseja selecionar:\n",
    "import time\n",
    "navegador.find_element(By.XPATH, '/html/body/form/select[1]').click()\n",
    "time.sleep(0.5)\n",
    "navegador.find_element(By.XPATH, '/html/body/form/select[1]/option[3]').click()"
   ]
  },
  {
   "cell_type": "code",
   "execution_count": null,
   "id": "f0aa3431",
   "metadata": {},
   "outputs": [],
   "source": []
  }
 ],
 "metadata": {
  "kernelspec": {
   "display_name": "Python 3",
   "language": "python",
   "name": "python3"
  },
  "language_info": {
   "codemirror_mode": {
    "name": "ipython",
    "version": 3
   },
   "file_extension": ".py",
   "mimetype": "text/x-python",
   "name": "python",
   "nbconvert_exporter": "python",
   "pygments_lexer": "ipython3",
   "version": "3.8.8"
  }
 },
 "nbformat": 4,
 "nbformat_minor": 5
}
