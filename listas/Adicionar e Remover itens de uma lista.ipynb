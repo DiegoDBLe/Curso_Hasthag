{
 "cells": [
  {
   "cell_type": "markdown",
   "id": "0b7ef22f",
   "metadata": {},
   "source": [
    "### # Adicionar e Remover itens de uma lista\n",
    "\n",
    "Adicionar:<br>\n",
    "lista.append(item)\n",
    "\n",
    "Remover:<br>\n",
    "item_removido = lista.pop(indice)<br>\n",
    "lista.remove(item)\n",
    "\n",
    "Digamos que você está construindo o controle de produtos da Apple.<br>\n",
    "E a Apple lançou o IPhone 11 e irá tirar dos seus estoques o IPhone X"
   ]
  },
  {
   "cell_type": "code",
   "execution_count": 3,
   "id": "ae1af2e7",
   "metadata": {},
   "outputs": [
    {
     "name": "stdout",
     "output_type": "stream",
     "text": [
      "['apple tv', 'mac', 'iphone x', 'IPad', 'apple watch', 'mac book', 'airpods', 'iphone 8']\n"
     ]
    }
   ],
   "source": [
    "produtos = ['apple tv', 'mac', 'iphone x', 'IPad', 'apple watch', 'mac book', 'airpods']\n",
    "\n",
    "produtos.append('iphone 8')\n",
    "print(produtos)"
   ]
  },
  {
   "cell_type": "markdown",
   "id": "7cefc4d1",
   "metadata": {},
   "source": [
    "#### Existem 2 formas de tratar o erro:\n",
    "Criar um if para evitar que ele aconteça\n",
    "\n",
    "Esperar que ele possa acontecer e tratar caso o erro aconteça com:"
   ]
  },
  {
   "cell_type": "code",
   "execution_count": 4,
   "id": "f90acd71",
   "metadata": {},
   "outputs": [
    {
     "name": "stdout",
     "output_type": "stream",
     "text": [
      "Produto removido com sucesso!\n",
      "['apple tv', 'mac', 'iphone x', 'apple watch', 'mac book', 'airpods', 'iphone 8']\n"
     ]
    }
   ],
   "source": [
    "try:\n",
    "    produtos.remove('IPad')\n",
    "    print('Produto removido com sucesso!')\n",
    "except:\n",
    "    print('Produto não está na lista!')\n",
    "print(produtos)"
   ]
  }
 ],
 "metadata": {
  "kernelspec": {
   "display_name": "Python 3",
   "language": "python",
   "name": "python3"
  },
  "language_info": {
   "codemirror_mode": {
    "name": "ipython",
    "version": 3
   },
   "file_extension": ".py",
   "mimetype": "text/x-python",
   "name": "python",
   "nbconvert_exporter": "python",
   "pygments_lexer": "ipython3",
   "version": "3.8.8"
  }
 },
 "nbformat": 4,
 "nbformat_minor": 5
}
