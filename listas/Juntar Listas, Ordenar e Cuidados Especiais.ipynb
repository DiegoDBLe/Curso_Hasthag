{
 "cells": [
  {
   "cell_type": "markdown",
   "id": "147a1bb6",
   "metadata": {},
   "source": [
    "# Juntar Listas, Ordenar e Cuidados Especiais\n",
    "\n",
    "### 2 formas:\n",
    "\n",
    "- lista1.extend(lista2)\n",
    "- lista_nova = lista1 + lista2\n",
    "\n",
    "Obs: o Método .append não junta listas, mas adiciona um valor no final da lista"
   ]
  },
  {
   "cell_type": "code",
   "execution_count": 2,
   "id": "cba766df",
   "metadata": {},
   "outputs": [
    {
     "name": "stdout",
     "output_type": "stream",
     "text": [
      "['apple tv', 'mac', 'iphone x', 'iphone 11', 'IPad', 'apple watch', 'mac book', 'airpods', 'iphone 12', 'ioculos']\n"
     ]
    }
   ],
   "source": [
    "produtos = ['apple tv', 'mac', 'iphone x', 'iphone 11', 'IPad', 'apple watch', 'mac book', 'airpods']\n",
    "novos_produtos = ['iphone 12', 'ioculos']\n",
    "\n",
    "produtos.extend(novos_produtos)\n",
    "\n",
    "print(produtos)"
   ]
  },
  {
   "cell_type": "code",
   "execution_count": 3,
   "id": "b301f9bf",
   "metadata": {},
   "outputs": [
    {
     "name": "stdout",
     "output_type": "stream",
     "text": [
      "juntando as listas ['apple tv', 'mac', 'iphone x', 'iphone 11', 'IPad', 'apple watch', 'mac book', 'airpods', 'iphone 12', 'ioculos']\n"
     ]
    }
   ],
   "source": [
    "produtos = ['apple tv', 'mac', 'iphone x', 'iphone 11', 'IPad', 'apple watch', 'mac book', 'airpods']\n",
    "novos_produtos = ['iphone 12', 'ioculos']\n",
    "\n",
    "print(f'juntando as listas {produtos + novos_produtos}')"
   ]
  },
  {
   "cell_type": "markdown",
   "id": "f7a1d427",
   "metadata": {},
   "source": [
    "### Ordenar listas\n",
    "\n",
    "lista.sort()"
   ]
  },
  {
   "cell_type": "code",
   "execution_count": 10,
   "id": "4f4322ac",
   "metadata": {},
   "outputs": [
    {
     "name": "stdout",
     "output_type": "stream",
     "text": [
      "[100, 270, 900, 1000, 1200, 1500, 15000, 20000]\n",
      "[20000, 15000, 1500, 1200, 1000, 900, 270, 100]\n",
      "['IPad', 'airpods', 'apple tv', 'apple watch', 'iphone 11', 'iphone x', 'mac', 'mac book']\n"
     ]
    }
   ],
   "source": [
    "vendas = [1000, 1500, 15000, 20000, 270, 900, 100, 1200]\n",
    "vendas_iphonex = [15000]\n",
    "vendas_iphone11 = [20000]\n",
    "\n",
    "vendas.sort()\n",
    "print(vendas)\n",
    "\n",
    "vendas.sort(reverse=True)\n",
    "print(vendas)\n",
    "\n",
    "produtos.sort()\n",
    "print(produtos)"
   ]
  },
  {
   "cell_type": "markdown",
   "id": "a9c95e3e",
   "metadata": {},
   "source": [
    "### Print Listas\n",
    "- usando o texto.join(lista)"
   ]
  },
  {
   "cell_type": "code",
   "execution_count": 13,
   "id": "aacec85c",
   "metadata": {},
   "outputs": [
    {
     "name": "stdout",
     "output_type": "stream",
     "text": [
      "IPad\n",
      "airpods\n",
      "apple tv\n",
      "apple watch\n",
      "iphone 11\n",
      "iphone x\n",
      "mac\n",
      "mac book\n"
     ]
    }
   ],
   "source": [
    "print('\\n'.join(produtos))"
   ]
  }
 ],
 "metadata": {
  "kernelspec": {
   "display_name": "Python 3",
   "language": "python",
   "name": "python3"
  },
  "language_info": {
   "codemirror_mode": {
    "name": "ipython",
    "version": 3
   },
   "file_extension": ".py",
   "mimetype": "text/x-python",
   "name": "python",
   "nbconvert_exporter": "python",
   "pygments_lexer": "ipython3",
   "version": "3.8.8"
  }
 },
 "nbformat": 4,
 "nbformat_minor": 5
}
