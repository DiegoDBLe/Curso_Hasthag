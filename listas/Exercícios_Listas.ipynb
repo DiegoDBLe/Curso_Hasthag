{
 "cells": [
  {
   "cell_type": "markdown",
   "id": "219b5db1",
   "metadata": {},
   "source": [
    "# Exercícios\n",
    "\n",
    "## 1. Faturamento do Melhor e do Pior Mês do Ano\n",
    "\n",
    "Qual foi o valor de vendas do melhor mês do Ano?\n",
    "E valor do pior mês do ano?"
   ]
  },
  {
   "cell_type": "code",
   "execution_count": 69,
   "id": "fe04822a",
   "metadata": {},
   "outputs": [
    {
     "name": "stdout",
     "output_type": "stream",
     "text": [
      "O maior valor de vendas do ano foi de R$ 49051.00 reais no mês de nov\n",
      "O menor valor de vendas do ano foi de R$ 9650.00 reais no mês de dez\n"
     ]
    }
   ],
   "source": [
    "meses = ['jan', 'fev', 'mar', 'abr', 'mai', 'jun', 'jul', 'ago', 'set', 'out', 'nov', 'dez']\n",
    "vendas_1sem = [25000, 29000, 22200, 17750, 15870, 19900]\n",
    "vendas_2sem = [19850, 20120, 17540, 15555, 49051, 9650]\n",
    "\n",
    "# unindo as listas:\n",
    "vendas_ano = vendas_1sem + vendas_2sem\n",
    "\n",
    "# Pegando o maior valor da lista:\n",
    "maior_valor_ano = max(vendas_ano)\n",
    "\n",
    "# Pegando a posicao do maior valor da lista:\n",
    "posicao_maior_valor = vendas_ano.index(maior_valor_ano)\n",
    "\n",
    "# Pegando o menor valor da lista:\n",
    "menor_valor_ano = min(vendas_ano) \n",
    "\n",
    "# Pegando a posição do menor valor da lista:\n",
    "posicao_menor_valor_ano = vendas_ano.index(menor_valor_ano)\n",
    "\n",
    "print(f'O maior valor de vendas do ano foi de R$ {maior_valor_ano:.2f} reais no mês de {meses[posicao_maior_valor]}')\n",
    "print(f'O menor valor de vendas do ano foi de R$ {menor_valor_ano:.2f} reais no mês de {meses[posicao_menor_valor_ano]}')"
   ]
  },
  {
   "cell_type": "markdown",
   "id": "100a96e6",
   "metadata": {},
   "source": [
    "## 2. Continuação\n",
    "\n",
    "Agora relacione as duas listas para printar 'O melhor mês do ano foi {} com {} vendas' e o mesmo para o pior mês do ano.\n",
    "\n",
    "Calcule também o faturamento total do Ano e quanto que o melhor mês representou do faturamento total.\n",
    "\n",
    "Obs: Para o faturamento total, pode usar a função sum(lista) que soma todos os itens de uma lista"
   ]
  },
  {
   "cell_type": "code",
   "execution_count": 86,
   "id": "d2f429d4",
   "metadata": {},
   "outputs": [
    {
     "name": "stdout",
     "output_type": "stream",
     "text": [
      "Total de R$ 261,486.00 reais.\n",
      "O melhor mês representou do faturamento total de 18.76%\n"
     ]
    }
   ],
   "source": [
    "total_vendas_ano = sum(vendas_ano)\n",
    "print(f'Total de R$ {total_vendas_ano:,.2f} reais.')\n",
    "\n",
    "percentual = maior_valor_ano / total_vendas_ano\n",
    "print(f'O melhor mês representou do faturamento total de {percentual:.2%}')"
   ]
  },
  {
   "cell_type": "markdown",
   "id": "ec225922",
   "metadata": {},
   "source": [
    "## 3. Crie uma lista com o top 3 valores de vendas do ano (sem fazer \"no olho\")\n",
    "\n",
    "Dica: o método remove retira um item da lista."
   ]
  },
  {
   "cell_type": "code",
   "execution_count": 137,
   "id": "f26d5149",
   "metadata": {},
   "outputs": [
    {
     "name": "stdout",
     "output_type": "stream",
     "text": [
      "[49051, 29000, 25000, 22200, 20120, 19900, 19850, 17750, 17540, 15870, 15555, 9650]\n",
      "Top 3: [49051, 29000, 25000]\n"
     ]
    }
   ],
   "source": [
    "print(vendas_ano)\n",
    "vendas_ano.sort(reverse=True)\n",
    "top_3 = vendas_ano[:3]\n",
    "print(f'Top 3: {top_3}')\n",
    "    "
   ]
  }
 ],
 "metadata": {
  "kernelspec": {
   "display_name": "Python 3",
   "language": "python",
   "name": "python3"
  },
  "language_info": {
   "codemirror_mode": {
    "name": "ipython",
    "version": 3
   },
   "file_extension": ".py",
   "mimetype": "text/x-python",
   "name": "python",
   "nbconvert_exporter": "python",
   "pygments_lexer": "ipython3",
   "version": "3.8.8"
  }
 },
 "nbformat": 4,
 "nbformat_minor": 5
}
