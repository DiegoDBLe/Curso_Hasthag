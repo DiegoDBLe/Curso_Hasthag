{
 "cells": [
  {
   "cell_type": "markdown",
   "id": "8566904f",
   "metadata": {},
   "source": [
    "#### String's\n",
    "\n",
    "- 0 1 2 3 4 5 6 7 8 9 \n",
    "- diego @ gmail . com\n",
    "\n",
    "Pegar um item de uma string: texto[indice]<br>\n",
    "Pegar o tamanho de uma string: len(indice)<br>\n",
    "Pegar um texto de trás pra frente: texto[indice] -> onde esse indice é negativo<br>\n",
    "Pega um texto do inicio ao final: texto[:indice] -> :<br>\n",
    "Pega um texto a partir do caractere até o final: texto[5:]<br>"
   ]
  },
  {
   "cell_type": "code",
   "execution_count": 14,
   "id": "b4ab7dbd",
   "metadata": {},
   "outputs": [
    {
     "name": "stdout",
     "output_type": "stream",
     "text": [
      "12\n",
      "15\n",
      "e\n",
      "@\n",
      "diego@gmail.com\n",
      "@gmail.com\n",
      "@gmail\n",
      "diego dantas\n",
      "dantas\n",
      "diego\n"
     ]
    }
   ],
   "source": [
    "email = 'diego@gmail.com'\n",
    "nome = 'diego dantas'\n",
    "\n",
    "print(len(nome))\n",
    "print(len(email))\n",
    "print(nome[2])\n",
    "print(email[5])\n",
    "\n",
    "print(email[:])\n",
    "print(email[5:])\n",
    "print(email[5:-4])\n",
    "print(nome[:])\n",
    "print(nome[6:])\n",
    "print(nome[:-7])\n"
   ]
  },
  {
   "cell_type": "code",
   "execution_count": 18,
   "id": "bbbecce3",
   "metadata": {},
   "outputs": [
    {
     "name": "stdout",
     "output_type": "stream",
     "text": [
      "Tamanho do email: 15 caracteres.\n",
      "Primeiro caractere: d\n",
      "Último caractere: m\n"
     ]
    }
   ],
   "source": [
    "print(f'Tamanho do email: {len(email)} caracteres.')\n",
    "print(f'Primeiro caractere: {email[0]}')\n",
    "print(f'Último caractere: {email[-1]}')"
   ]
  }
 ],
 "metadata": {
  "kernelspec": {
   "display_name": "Python 3",
   "language": "python",
   "name": "python3"
  },
  "language_info": {
   "codemirror_mode": {
    "name": "ipython",
    "version": 3
   },
   "file_extension": ".py",
   "mimetype": "text/x-python",
   "name": "python",
   "nbconvert_exporter": "python",
   "pygments_lexer": "ipython3",
   "version": "3.8.8"
  }
 },
 "nbformat": 4,
 "nbformat_minor": 5
}
