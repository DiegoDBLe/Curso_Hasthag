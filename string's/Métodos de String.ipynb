{
 "cells": [
  {
   "cell_type": "markdown",
   "id": "a428d8b9",
   "metadata": {},
   "source": [
    "### \"Fórmulas\" de Texto - Métodos de String\n",
    "Estrutura:<br>\n",
    "Normalmente usamos a estrutura texto.método() para fazer as modificações que queremos <br>\n",
    "Alguns métodos pedem \"argumentos\", que são informações que temos que passar para a fórmula (método) para ela funcionar. Esses argumentos são passados dentro do parênteses<br>\n",
    "Como usar:<br>\n",
    "Não decore os métodos, os que você for mais usando com o tempo você vai decorar o que precisar.<br>\n",
    "\n",
    "Mas a dica é: use essa lista para consulta e busque entender como os métodos funcionam e suas aplicações, para poder consultar e usar quando precisar.<br>\n",
    "\n",
    "<b>capitalize() -> </b>Coloca a 1ª letra Maiúscula<br>\n",
    "<b>casefold() -></b> Transforma todas as letras em minúsculas (existe lower() mas o casefold é melhor normalmente)<br>\n",
    "<b>count() -></b> Quantidade de vezes que um valor aparece na string<br>\n",
    "<b>endswith() -></b> Verifica se o texto termina com um valor específico e dá como resposta True ou False<br>\n",
    "<b>find() -> </b>Procura um texto dentro de outro texto e dá como resposta a posição do texto encontrado<br>\n",
    "<b>format() -></b> Formata uma string de acordo com os valores passados. Já usamos bastante ao longo do programa.<br>\n",
    "<b>isalnum() -></b> Verifica se um texto é todo feito com caracteres alfanuméricos (letras e números) -> letras com acento ou ç são considerados letras para essa função.<br>\n",
    "<b>isalpha() -></b> Verifica se um texto é todo feito de letras.<br>\n",
    "<b>isnumeric() -></b> Verifica se um texto é todo feito por números.<br>\n",
    "<b>replace() -></b> Substitui um texto por um outro texto em uma string.<br>\n",
    "<b>split() -></b> Separa uma string de acordo com um delimitador em vários textos diferentes.<br>\n",
    "<b>splitlines() -> </b>separa um texto em vários textos de acordo com os \"enters\" do texto<br>\n",
    "<b>startswith() -></b> Verifica se a string começa com determinado texto<br>\n",
    "<b>strip() -></b> Retira caracteres indesejados dos textos. Por padrão, retira espaços \"extras\" no início e no final<br>\n",
    "<b>title() -></b> Coloca a 1ª letra de cada palavra em maiúscula<br>\n",
    "<b>upper() -></b> Coloca o texto todo em letra maiúscula"
   ]
  },
  {
   "cell_type": "code",
   "execution_count": 2,
   "id": "15ee83e8",
   "metadata": {},
   "outputs": [
    {
     "name": "stdout",
     "output_type": "stream",
     "text": [
      "Diego dantas batista\n"
     ]
    }
   ],
   "source": [
    "# capitalize() -> Coloca a 1ª letra Maiúscula\n",
    "texto = 'diego dantas batista'\n",
    "print(texto.capitalize())"
   ]
  },
  {
   "cell_type": "code",
   "execution_count": 4,
   "id": "82b93880",
   "metadata": {},
   "outputs": [
    {
     "name": "stdout",
     "output_type": "stream",
     "text": [
      "diego dantas batista\n"
     ]
    }
   ],
   "source": [
    "# casefold() -> Transforma todas as letras em minúsculas (existe lower() mas o casefold é melhor normalmente)\n",
    "print(texto.casefold())"
   ]
  },
  {
   "cell_type": "code",
   "execution_count": 6,
   "id": "68f919f1",
   "metadata": {},
   "outputs": [
    {
     "name": "stdout",
     "output_type": "stream",
     "text": [
      "4\n"
     ]
    }
   ],
   "source": [
    "# count() -> Quantidade de vezes que um valor aparece na string\n",
    "print(texto.count('a'))"
   ]
  },
  {
   "cell_type": "code",
   "execution_count": 11,
   "id": "4ddf75ff",
   "metadata": {},
   "outputs": [
    {
     "name": "stdout",
     "output_type": "stream",
     "text": [
      "True\n"
     ]
    }
   ],
   "source": [
    "# endswith() -> Verifica se o texto termina com um valor específico e dá como resposta True ou False\n",
    "print(texto.endswith('a'))"
   ]
  },
  {
   "cell_type": "code",
   "execution_count": 13,
   "id": "f06502b8",
   "metadata": {},
   "outputs": [
    {
     "name": "stdout",
     "output_type": "stream",
     "text": [
      "15\n"
     ]
    }
   ],
   "source": [
    "# find() -> Procura um texto dentro de outro texto e dá como resposta a posição do texto encontrado\n",
    "print(texto.find('tista'))"
   ]
  },
  {
   "cell_type": "code",
   "execution_count": 15,
   "id": "6f5615fd",
   "metadata": {},
   "outputs": [
    {
     "name": "stdout",
     "output_type": "stream",
     "text": [
      "False\n"
     ]
    }
   ],
   "source": [
    "# isalnum() -> Verifica se um texto é todo feito com caracteres alfanuméricos (letras e números) -> letras com acento ou ç são considerados letras para essa função.\n",
    "print(texto.isalnum())"
   ]
  },
  {
   "cell_type": "code",
   "execution_count": 17,
   "id": "a341fff4",
   "metadata": {},
   "outputs": [
    {
     "name": "stdout",
     "output_type": "stream",
     "text": [
      "False\n"
     ]
    }
   ],
   "source": [
    "# isalpha() -> Verifica se um texto é todo feito de letras.\n",
    "print(texto.isalpha())"
   ]
  },
  {
   "cell_type": "code",
   "execution_count": 19,
   "id": "df80262c",
   "metadata": {},
   "outputs": [
    {
     "name": "stdout",
     "output_type": "stream",
     "text": [
      "False\n"
     ]
    }
   ],
   "source": [
    "# isnumeric() -> Verifica se um texto é todo feito por números.\n",
    "print(texto.isnumeric())"
   ]
  },
  {
   "cell_type": "code",
   "execution_count": 21,
   "id": "cb0e17ba",
   "metadata": {},
   "outputs": [
    {
     "name": "stdout",
     "output_type": "stream",
     "text": [
      "levi dantas batista\n"
     ]
    }
   ],
   "source": [
    "# replace() -> Substitui um texto por um outro texto em uma string.\n",
    "print(texto.replace('diego', ('levi')))"
   ]
  },
  {
   "cell_type": "code",
   "execution_count": 23,
   "id": "ff8e73d6",
   "metadata": {},
   "outputs": [
    {
     "name": "stdout",
     "output_type": "stream",
     "text": [
      "['diego', 'dantas', 'batista']\n"
     ]
    }
   ],
   "source": [
    "# split() -> Separa uma string de acordo com um delimitador em vários textos diferentes.\n",
    "print(texto.split())"
   ]
  },
  {
   "cell_type": "code",
   "execution_count": 26,
   "id": "b8bc840d",
   "metadata": {},
   "outputs": [
    {
     "name": "stdout",
     "output_type": "stream",
     "text": [
      "['diego dantas batista']\n"
     ]
    }
   ],
   "source": [
    "# splitlines() -> separa um texto em vários textos de acordo com os \"enters\" do texto\n",
    "print(texto.splitlines())"
   ]
  },
  {
   "cell_type": "code",
   "execution_count": 30,
   "id": "4c90b53b",
   "metadata": {},
   "outputs": [
    {
     "name": "stdout",
     "output_type": "stream",
     "text": [
      "True\n"
     ]
    }
   ],
   "source": [
    "# startswith() -> Verifica se a string começa com determinado texto\n",
    "print(texto.startswith('diego'))"
   ]
  },
  {
   "cell_type": "code",
   "execution_count": 37,
   "id": "21471de7",
   "metadata": {},
   "outputs": [
    {
     "name": "stdout",
     "output_type": "stream",
     "text": [
      "diego dantas batist\n"
     ]
    }
   ],
   "source": [
    "# strip() -> Retira caracteres indesejados dos textos. Por padrão, retira espaços \"extras\" no início e no final\n",
    "print(texto.strip('a'))"
   ]
  },
  {
   "cell_type": "code",
   "execution_count": 39,
   "id": "924637a0",
   "metadata": {},
   "outputs": [
    {
     "name": "stdout",
     "output_type": "stream",
     "text": [
      "Diego Dantas Batista\n"
     ]
    }
   ],
   "source": [
    "# title() -> Coloca a 1ª letra de cada palavra em maiúscula\n",
    "print(texto.title())"
   ]
  },
  {
   "cell_type": "code",
   "execution_count": 40,
   "id": "0175abc7",
   "metadata": {},
   "outputs": [
    {
     "name": "stdout",
     "output_type": "stream",
     "text": [
      "DIEGO DANTAS BATISTA\n"
     ]
    }
   ],
   "source": [
    "# upper() -> Coloca o texto todo em letra maiúscula\n",
    "print(texto.upper())"
   ]
  }
 ],
 "metadata": {
  "kernelspec": {
   "display_name": "Python 3",
   "language": "python",
   "name": "python3"
  },
  "language_info": {
   "codemirror_mode": {
    "name": "ipython",
    "version": 3
   },
   "file_extension": ".py",
   "mimetype": "text/x-python",
   "name": "python",
   "nbconvert_exporter": "python",
   "pygments_lexer": "ipython3",
   "version": "3.8.8"
  }
 },
 "nbformat": 4,
 "nbformat_minor": 5
}
