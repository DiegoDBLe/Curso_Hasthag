{
 "cells": [
  {
   "cell_type": "markdown",
   "id": "5e456882",
   "metadata": {},
   "source": [
    "### 1. Cadastro de CPF\n",
    "Crie um programa para cadastro de CPF de clientes que recebe o CPF em um input box apenas com números.<br>\n",
    "\n",
    "Ex: 'Insira seu CPF (digite apenas números)'\n",
    "Crie um programa para cadastro de CPF de clientes que recebe o CPF em um input box apenas com números.<br>\n",
    "\n",
    "Caso o usuário digite algo diferente de números ou digite menos de 11 caracteres (tamanho do CPF brasileiro), o programa deve exibir uma mensagem de \"Digite seu CPF corretamente e digite apenas números\""
   ]
  },
  {
   "cell_type": "code",
   "execution_count": 73,
   "id": "8f0c8c04",
   "metadata": {},
   "outputs": [
    {
     "name": "stdout",
     "output_type": "stream",
     "text": [
      "Insira seu CPF: 030.423.683-78\n",
      "CPF cadastrado com sucesso.\n"
     ]
    }
   ],
   "source": [
    "# Cadastro cpf:\n",
    "cpf = str(input('Insira seu CPF: ')).strip().replace('.','')\n",
    "cpf = cpf.replace('-', '')\n",
    "\n",
    "if len(cpf) == 11 and cpf.isnumeric():\n",
    "    print(f'CPF cadastrado com sucesso.')\n",
    "else:\n",
    "    print('Digite seu CPF corretamente e digite apenas números')\n"
   ]
  },
  {
   "cell_type": "markdown",
   "id": "cf139e69",
   "metadata": {},
   "source": [
    "### 3. Cadastro de e-mails\n",
    "\n",
    "A Hashtag sempre se comunica com seus clientes por e-mail. Para isso, a gente tem em cada página um cadastro de nome e e-mail. Nesse cadastro, nosso sistema verifica se o e-mail que a pessoa inseriu é um e-mail válido, verificando se ele tem '@' e se depois do '@' tem algum ponto, afinal:<br>\n",
    "\n",
    "liragmail.com NÃO é um e-mail válido <br>\n",
    "\n",
    "lira@gmail NÃO é um e-mail válido <br>\n",
    "\n",
    "lira@gmail.com é um e-mail válido<br>\n",
    "\n",
    "Crie um programa que permita o cadastro de nome e e-mail de uma pessoa (por meio de inputs) e que verifique:<br>\n",
    "\n",
    "Se nome e e-mail foram preenchidos, caso contrário ele deve avisar para preencher todos os dados corretamente<br>\n",
    "Se o e-mail contém '@' e se depois do '@' existe algum '.', caso contrário ele deve exibir uma mensagem de e-mail inválido<br>\n",
    "Obs: Pode te ajudar lembrar do método .find da aula de Métodos de String. Você pode testar o que ele dá como resposta caso ele não encontre um item dentro da string"
   ]
  },
  {
   "cell_type": "code",
   "execution_count": 96,
   "id": "2394a7c8",
   "metadata": {},
   "outputs": [
    {
     "name": "stdout",
     "output_type": "stream",
     "text": [
      "Digite seu nome: a\n",
      "Digite seu email: @ça.\n",
      "Cadastro concluido\n",
      "0, @ça.\n"
     ]
    }
   ],
   "source": [
    "nome = str(input('Digite seu nome: '))\n",
    "email = str(input('Digite seu email: '))\n",
    "\n",
    "if nome and email:\n",
    "    posicao_arroba = email.find('@')\n",
    "    servidor_de_email = email[posicao_arroba:]\n",
    "    if posicao_arroba != -1 and '.' in servidor_de_email:\n",
    "        print('Cadastro concluido')\n",
    "    print(f'{posicao_arroba}, {servidor_de_email}')\n",
    "else:\n",
    "    print('Digite seu nome ou email corretamente!')"
   ]
  }
 ],
 "metadata": {
  "kernelspec": {
   "display_name": "Python 3",
   "language": "python",
   "name": "python3"
  },
  "language_info": {
   "codemirror_mode": {
    "name": "ipython",
    "version": 3
   },
   "file_extension": ".py",
   "mimetype": "text/x-python",
   "name": "python",
   "nbconvert_exporter": "python",
   "pygments_lexer": "ipython3",
   "version": "3.8.8"
  }
 },
 "nbformat": 4,
 "nbformat_minor": 5
}
