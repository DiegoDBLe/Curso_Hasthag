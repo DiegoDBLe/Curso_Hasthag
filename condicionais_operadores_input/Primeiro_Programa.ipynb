{
 "cells": [
  {
   "cell_type": "markdown",
   "id": "baacf468",
   "metadata": {},
   "source": [
    "# Exercicios do Módulo 1 - Operações, Variáveis e Input "
   ]
  },
  {
   "cell_type": "markdown",
   "id": "904f56bd",
   "metadata": {},
   "source": [
    "### Parte 1 Operações e Variáveis\n",
    "\n",
    "- Crie um programa que imprima os principais indicadores da loja Hashtag&Drinks no último ano. OBS: Faça tudo usando variáveis.\n",
    "\n",
    "#### Valores do último ano:\n",
    "\n",
    "Quantidade de Vendas de Coca = 150 <br>\n",
    "Quantidade de Vendas de Pepsi = 130 <br>\n",
    "Preço Unitário da Coca =  1,50 <br>\n",
    "Preço Unitário da Pepsi =  1,50 <br>\n",
    "Custo da Loja:  2.500,00\n",
    "\n",
    "use o bloco de código abaixo para criar todas as variáveis que precisar:\n"
   ]
  },
  {
   "cell_type": "code",
   "execution_count": 2,
   "id": "f8a2af19",
   "metadata": {},
   "outputs": [],
   "source": [
    "quantidade_coca = 150\n",
    "quantidade_pepsi = 130\n",
    "preco_coca = 1.50\n",
    "preco_pepsi = 1.50\n",
    "custo_da_loja = 2500"
   ]
  },
  {
   "cell_type": "markdown",
   "id": "d3e1f280",
   "metadata": {},
   "source": [
    "#### 1 - Qual foi o faturamento da Pepsi na Loja? "
   ]
  },
  {
   "cell_type": "code",
   "execution_count": 5,
   "id": "f924587d",
   "metadata": {},
   "outputs": [
    {
     "name": "stdout",
     "output_type": "stream",
     "text": [
      "Faturamento da Pespsi na loja foi de R$ 195.0\n"
     ]
    }
   ],
   "source": [
    "faturamento_pepsi = quantidade_pepsi * preco_pepsi\n",
    "print(f'Faturamento da Pespsi na loja foi de R$ {faturamento_pepsi}')"
   ]
  },
  {
   "cell_type": "markdown",
   "id": "8869f2fa",
   "metadata": {},
   "source": [
    "#### 2 - Qual foi o faturamento da Coca na Loja?"
   ]
  },
  {
   "cell_type": "code",
   "execution_count": 7,
   "id": "7806cc6e",
   "metadata": {},
   "outputs": [
    {
     "name": "stdout",
     "output_type": "stream",
     "text": [
      "Faturamento da Coca na loja doi de R$ 225.0\n"
     ]
    }
   ],
   "source": [
    "faturamento_coca = quantidade_coca * preco_coca\n",
    "print(f'Faturamento da Coca na loja doi de R$ {faturamento_coca}')"
   ]
  },
  {
   "cell_type": "markdown",
   "id": "34a651db",
   "metadata": {},
   "source": [
    "#### 3 - Qual foi o lucro da loja?"
   ]
  },
  {
   "cell_type": "code",
   "execution_count": 13,
   "id": "d698257e",
   "metadata": {},
   "outputs": [
    {
     "name": "stdout",
     "output_type": "stream",
     "text": [
      "O Lucro da loja é de R$ -2080.0\n"
     ]
    }
   ],
   "source": [
    "faturamento = faturamento_pepsi + faturamento_coca\n",
    "lucro_da_loja = faturamento - custo_da_loja\n",
    "print(f'O Lucro da loja é de R$ {lucro_da_loja}')"
   ]
  },
  {
   "cell_type": "markdown",
   "id": "e98ea1f5",
   "metadata": {},
   "source": [
    "#### 4 - Qual a margem da Loja? "
   ]
  },
  {
   "cell_type": "code",
   "execution_count": 18,
   "id": "022a41d2",
   "metadata": {},
   "outputs": [
    {
     "name": "stdout",
     "output_type": "stream",
     "text": [
      "A margem de lucro foi de -4.9523809523809526 %\n"
     ]
    }
   ],
   "source": [
    "margem = lucro_da_loja / faturamento\n",
    "print(f'A margem de lucro foi de {margem} %')"
   ]
  },
  {
   "cell_type": "markdown",
   "id": "73242c78",
   "metadata": {},
   "source": [
    "### Parte 2 - Inputs e Strings"
   ]
  },
  {
   "cell_type": "markdown",
   "id": "f86c9c81",
   "metadata": {},
   "source": [
    "A maioria das empresas trabalham com um Código para cada produto que possuem. A HashtagDrinks por exemplo, tem mais de 1.000 produtos e possui um código para cada produto.<br> Ex: Coca -> Código: BEB1300543<br>\n",
    "Pepsi -> Código: BEB1300545 <br>\n",
    "Vinho Primitivo Lucarelli: -> Código: BAC1546001<br>\n",
    "Vodka Smirnoff -> Código: BAC17675002\n",
    "\n",
    "Repare que todas as bebidas não alcóolicas tem o inicio do código \"BEB\" e todas as bebidas alcóolicas tem o inicio o código \"BAC\" Crie um programa de consulta de bebida que, dado o código identifique se a bebida é alcóolica. O programa deve responder TRUE para bebidas alcóolicas e FALSE para não alcóolicas. Para inserir um código, use input"
   ]
  },
  {
   "cell_type": "code",
   "execution_count": 47,
   "id": "65d2e4e5",
   "metadata": {},
   "outputs": [
    {
     "name": "stdout",
     "output_type": "stream",
     "text": [
      "Digite o códgigo da bebida: BHBHVI\n",
      "Bebida não alcóolica.\n"
     ]
    }
   ],
   "source": [
    "codigo = \"BAC\"\n",
    "\n",
    "tipo_de_bebida = input('Digite o códgigo da bebida: ')\n",
    "\n",
    "if codigo in tipo_de_bebida:\n",
    "    print('Bebida Alcóolica!!\\nVendas de bebidas alcóolicas somente para maiores de 18 anos.')\n",
    "else:\n",
    "    print('Bebida não alcóolica.')"
   ]
  }
 ],
 "metadata": {
  "kernelspec": {
   "display_name": "Python 3",
   "language": "python",
   "name": "python3"
  },
  "language_info": {
   "codemirror_mode": {
    "name": "ipython",
    "version": 3
   },
   "file_extension": ".py",
   "mimetype": "text/x-python",
   "name": "python",
   "nbconvert_exporter": "python",
   "pygments_lexer": "ipython3",
   "version": "3.8.8"
  }
 },
 "nbformat": 4,
 "nbformat_minor": 5
}
