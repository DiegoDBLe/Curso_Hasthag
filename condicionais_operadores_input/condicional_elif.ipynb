{
 "cells": [
  {
   "cell_type": "markdown",
   "id": "f9174cb4",
   "metadata": {},
   "source": [
    "#### elif\n",
    "\n",
    "usamos o elif da seguint forma:<br>\n",
    "\n",
    "if condição: <br>\n",
    "        O que fazer se a condição 1 for verdadeira.<br>\n",
    "elif condição_2:<br>\n",
    "        O que fazer se a condição 1 for falsa e a condição 2 for verdadeira.<br>\n",
    "else:<br>\n",
    "        o que fazer se a condição 1 e a condição 2 forem falsas."
   ]
  },
  {
   "cell_type": "markdown",
   "id": "4592e443",
   "metadata": {},
   "source": [
    "### Exemplo:\n",
    "\n",
    "Vamos criar um programa para analisar o bônus dos funcionarios de uma empresa:<br>\n",
    "- Para os cargos de vendedores, a regra do bônus é de acordo com a meta de vendas da pessoa.\n",
    "- Se ela vendeu abaixo da meta, ela não ganha bônus.\n",
    "- Se ela vendeu acima da meta, ela ganha bônus de 3% do valor ela vendeu.\n",
    "- Se ela vendeu mais que o dobro da meta dela, ela ganha uma bônus de 7% do valor que ela vendeu.\n",
    "\n",
    "Vamos criar um programa para avaliar uma pessoa que tinha como meta de vendas 20.000 reais e calcular o bônus dela de acordo com o valor que ela tiver.\n"
   ]
  },
  {
   "cell_type": "code",
   "execution_count": 19,
   "id": "65a48841",
   "metadata": {},
   "outputs": [
    {
     "name": "stdout",
     "output_type": "stream",
     "text": [
      "Digite o valor que você vendeu: R$ 30000\n",
      "Parabéns!! Você atingiu sua meta e seu bônus foi de 3% Você vai receber R$ 900.0 reais de comissão.\n"
     ]
    }
   ],
   "source": [
    "meta = 20000\n",
    "\n",
    "venda = float(input('Digite o valor que você vendeu: R$ '))\n",
    "dobro = (meta * 2)\n",
    "\n",
    "if venda > dobro:\n",
    "    bonus = venda * 0.07\n",
    "    print(f'Parabéns!! Você atingiu sua meta e seu bônus foi de 7% Você vai receber R$ {bonus} reais de comissão.')\n",
    "elif venda > meta:\n",
    "    bonus = venda * 0.03\n",
    "    print(f'Parabéns!! Você atingiu sua meta e seu bônus foi de 3% Você vai receber R$ {bonus} reais de comissão.')\n",
    "else:\n",
    "    print('Você não bateu a meta')\n",
    "    "
   ]
  }
 ],
 "metadata": {
  "kernelspec": {
   "display_name": "Python 3",
   "language": "python",
   "name": "python3"
  },
  "language_info": {
   "codemirror_mode": {
    "name": "ipython",
    "version": 3
   },
   "file_extension": ".py",
   "mimetype": "text/x-python",
   "name": "python",
   "nbconvert_exporter": "python",
   "pygments_lexer": "ipython3",
   "version": "3.8.8"
  }
 },
 "nbformat": 4,
 "nbformat_minor": 5
}
