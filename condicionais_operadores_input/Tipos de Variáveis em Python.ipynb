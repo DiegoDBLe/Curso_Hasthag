{
 "cells": [
  {
   "cell_type": "markdown",
   "id": "cfc5f49f",
   "metadata": {},
   "source": [
    "## Tipos de Variáveis em Python"
   ]
  },
  {
   "cell_type": "markdown",
   "id": "0d379362",
   "metadata": {},
   "source": [
    "Uma variável é um objeto, afinal tudo em Python é um Objeto.<br>\n",
    "int -> inteiro <br>\n",
    "string -> texto <br>\n",
    "float -> numeros fluteantes com casa deciaml <br>\n",
    "bool ou boolean -> True ou False <br>"
   ]
  },
  {
   "cell_type": "code",
   "execution_count": 10,
   "id": "0deabf79",
   "metadata": {},
   "outputs": [
    {
     "data": {
      "text/plain": [
       "int"
      ]
     },
     "execution_count": 10,
     "metadata": {},
     "output_type": "execute_result"
    }
   ],
   "source": [
    "faturamento = 1000\n",
    "type(faturamento)"
   ]
  },
  {
   "cell_type": "code",
   "execution_count": 4,
   "id": "850f5867",
   "metadata": {},
   "outputs": [
    {
     "data": {
      "text/plain": [
       "float"
      ]
     },
     "execution_count": 4,
     "metadata": {},
     "output_type": "execute_result"
    }
   ],
   "source": [
    "faturamento = 1000.0\n",
    "type(faturamento)"
   ]
  },
  {
   "cell_type": "code",
   "execution_count": 7,
   "id": "68d7eac3",
   "metadata": {},
   "outputs": [
    {
     "data": {
      "text/plain": [
       "str"
      ]
     },
     "execution_count": 7,
     "metadata": {},
     "output_type": "execute_result"
    }
   ],
   "source": [
    "faturamento = '1000'\n",
    "type(faturamento)"
   ]
  },
  {
   "cell_type": "code",
   "execution_count": 9,
   "id": "44904dd2",
   "metadata": {},
   "outputs": [
    {
     "data": {
      "text/plain": [
       "bool"
      ]
     },
     "execution_count": 9,
     "metadata": {},
     "output_type": "execute_result"
    }
   ],
   "source": [
    "faturamento = False\n",
    "type(faturamento)"
   ]
  },
  {
   "cell_type": "code",
   "execution_count": 12,
   "id": "314361a1",
   "metadata": {},
   "outputs": [
    {
     "name": "stdout",
     "output_type": "stream",
     "text": [
      "O farutamento da loja foi 1000\n"
     ]
    }
   ],
   "source": [
    "print(f'O farutamento da loja foi {faturamento}')"
   ]
  },
  {
   "cell_type": "code",
   "execution_count": 15,
   "id": "f9be4fb3",
   "metadata": {},
   "outputs": [
    {
     "name": "stdout",
     "output_type": "stream",
     "text": [
      "O faturamento da loja foi R$ 2000 reais. O custo da loja foi R$ 500 reais. Assim, o lucro da loja foi R$ 1500 reais. \n"
     ]
    }
   ],
   "source": [
    "faturamento = 2000\n",
    "custo = 500\n",
    "lucro = faturamento - custo\n",
    "\n",
    "print(f'O faturamento da loja foi R$ {faturamento} reais. O custo da loja foi R$ {custo} reais. Assim, o lucro da loja foi R$ {lucro} reais. ')"
   ]
  }
 ],
 "metadata": {
  "kernelspec": {
   "display_name": "Python 3",
   "language": "python",
   "name": "python3"
  },
  "language_info": {
   "codemirror_mode": {
    "name": "ipython",
    "version": 3
   },
   "file_extension": ".py",
   "mimetype": "text/x-python",
   "name": "python",
   "nbconvert_exporter": "python",
   "pygments_lexer": "ipython3",
   "version": "3.8.8"
  }
 },
 "nbformat": 4,
 "nbformat_minor": 5
}
