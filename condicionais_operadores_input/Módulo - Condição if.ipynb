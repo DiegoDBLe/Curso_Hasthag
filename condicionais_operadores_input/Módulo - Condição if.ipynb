{
 "cells": [
  {
   "cell_type": "markdown",
   "id": "196bb721",
   "metadata": {},
   "source": [
    "## Condições no python -> if"
   ]
  },
  {
   "cell_type": "markdown",
   "id": "a11adbb2",
   "metadata": {},
   "source": [
    "#### Estrutura if simples: "
   ]
  },
  {
   "cell_type": "markdown",
   "id": "c0e1836b",
   "metadata": {},
   "source": [
    "#### Exemplo Real (informações 100% hipoteticas e inventadas):\n",
    "\n",
    "Você precisa criar um programa que vai analisar o resultado de vendas dos produtos da Amazon em um mês. Para simplificar vamos pensar em um unico produto: Iphone. <br>\n",
    "\n",
    "Meta de vendas de Iphones = 50.000 unidades\n",
    "Quantidade de vendida no mês = 63.000 unidades\n",
    "\n",
    "O sistema devera informar se batemos a meta de vendas ou não:"
   ]
  },
  {
   "cell_type": "code",
   "execution_count": 8,
   "id": "513d1082",
   "metadata": {},
   "outputs": [
    {
     "name": "stdout",
     "output_type": "stream",
     "text": [
      "Quantas unidades de Iphone foram vendicas? 20000\n",
      "Infezlimente não batemos a meta de 50000 venda de Iphone. Total de 20000 iphones.\n"
     ]
    }
   ],
   "source": [
    "meta = 50000\n",
    "\n",
    "quantidade_vendida = int(input('Quantas unidades de Iphone foram vendicas? '))\n",
    "\n",
    "if quantidade_vendida >= meta:\n",
    "    print(f'Batemos a meta de vendas. Total de {quantidade_vendida} iphones.')\n",
    "else:\n",
    "    print(f'Infezlimente não batemos a meta de {meta} venda de Iphone. Total de {quantidade_vendida} iphones.')"
   ]
  },
  {
   "cell_type": "markdown",
   "id": "3b9a9c75",
   "metadata": {},
   "source": [
    "##### Digamos que você precisa criar um programa para um fundo de investimento conseguir avaliar o resultado de uma carteira de ações e o quanto de taxa deverá ser pago.<br>\n",
    "\n",
    "A Regra do fundo de investimento é:<br>\n",
    " - O fundo se compromete a entregar no minimo 5% de retorno ao ano.\n",
    " - Caso o fundo não consiga entregar 5% de retorno, ele não pode cobrar cobrar taxa dos seus investidores.\n",
    " - Caso o fundo consiga entregar mais de 5% de retorno, ele irá cobrar 2% de taxa dos seus investidores.\n",
    " - Caso o fundo consiga 20% de retorno, ele irá cobrar 4% de taxa dos seus investidores."
   ]
  },
  {
   "cell_type": "code",
   "execution_count": 20,
   "id": "ddb440b0",
   "metadata": {},
   "outputs": [
    {
     "name": "stdout",
     "output_type": "stream",
     "text": [
      "Informe seu rendimento: 4\n",
      "Seu rendimento foi de 4.0 % e sua taxa foi de 0%\n"
     ]
    }
   ],
   "source": [
    "meta = 5\n",
    "taxa = 0\n",
    "rendimento = float(input('Informe seu rendimento: '))\n",
    "\n",
    "if rendimento > meta:\n",
    "    if rendimento > 20:\n",
    "        taxa = 4\n",
    "        print(f'Seu rendimento foi de {rendimento} % e será cobrado uma taxa de {taxa}%')\n",
    "    else:    \n",
    "        taxa = 2\n",
    "        print(f'Seu rendimento foi de {rendimento} % será cobrado uma taxa de {taxa} %')\n",
    "else:\n",
    "    print(f'Seu rendimento foi de {rendimento} % e sua taxa foi de {taxa}%')"
   ]
  }
 ],
 "metadata": {
  "kernelspec": {
   "display_name": "Python 3",
   "language": "python",
   "name": "python3"
  },
  "language_info": {
   "codemirror_mode": {
    "name": "ipython",
    "version": 3
   },
   "file_extension": ".py",
   "mimetype": "text/x-python",
   "name": "python",
   "nbconvert_exporter": "python",
   "pygments_lexer": "ipython3",
   "version": "3.8.8"
  }
 },
 "nbformat": 4,
 "nbformat_minor": 5
}
