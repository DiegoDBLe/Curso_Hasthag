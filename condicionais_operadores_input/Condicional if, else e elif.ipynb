{
 "cells": [
  {
   "cell_type": "markdown",
   "id": "8490b54c",
   "metadata": {},
   "source": [
    "## 1. Cálculo de Bônus\n",
    "Crie um programa que calcule e dê um print no bônus que os funcionários devem receber segundo a regra:<br>\n",
    "- A meta é 1000 vendas.<br>\n",
    "- Se o valor de vendas for maior ou igual a meta, o valor do bônus do funcionário é 10% do valor de vendas.<br>\n",
    "- Caso contrário o valor de bônus do funcionário é 0.<br>\n",
    "- Print o bônus dos 3 funcionários"
   ]
  },
  {
   "cell_type": "code",
   "execution_count": 41,
   "id": "3003ba65",
   "metadata": {},
   "outputs": [
    {
     "name": "stdout",
     "output_type": "stream",
     "text": [
      "O Funcionario 1 ganhou 100.0 de bonus\n",
      "O Funcionario 2 ganhou 0 de bonus\n",
      "O Funcionario 3 ganhou 270.0 de bonus\n"
     ]
    }
   ],
   "source": [
    "meta = 1000\n",
    "vendas_funcionario_1 = 1000\n",
    "vendas_funcionario_2 = 770\n",
    "vendas_funcionario_3 = 2700\n",
    "\n",
    "if vendas_funcionario_1 >= meta:\n",
    "    bonus = vendas_funcionario_1 * 0.10\n",
    "else:\n",
    "    bonus = 0\n",
    "print(f'O Funcionario 1 ganhou {bonus} de bonus')    \n",
    "    \n",
    "if vendas_funcionario_2 >= meta:\n",
    "    bonus = vendas_funcionario_1 * 0.10\n",
    "else:\n",
    "    bonus = 0\n",
    "print(f'O Funcionario 2 ganhou {bonus} de bonus')\n",
    "\n",
    "if vendas_funcionario_3 >= meta:\n",
    "    bonus = vendas_funcionario_3 * 0.10\n",
    "else:\n",
    "    bonus = 0\n",
    "print(f'O Funcionario 3 ganhou {bonus} de bonus') \n",
    "    "
   ]
  },
  {
   "cell_type": "markdown",
   "id": "b086ee30",
   "metadata": {},
   "source": [
    "### 2. Cálculo de bônus com uma nova regra\n",
    "Agora, crie um novo código que calcule e dê um print no bônus dos funcionários novamente. Porém há uma nova regra nesse 2º caso:<br>\n",
    "A meta é 1000 vendas<br>\n",
    "Agora, os funcionários que venderem muito acima da meta ganham mais bônus do que os outros. Então o bônus é definido da seguinte forma:<br>\n",
    "\n",
    " - Se vendas funcionário for maior ou igual a 2000, então o bônus é de 15% sobre o valor de vendas\n",
    " - Se vendas funcionário for menor do que 2000 e maior ou igual a 1000, então o bônus é de 10% sobre o valor de vendas\n",
    " - Se vendas funcionário for menos do que 1000 então o bônus do funcionário é de 0.\n",
    " - Use as mesmas variáveis de vendas_funcionários"
   ]
  },
  {
   "cell_type": "code",
   "execution_count": 53,
   "id": "797f5183",
   "metadata": {},
   "outputs": [
    {
     "name": "stdout",
     "output_type": "stream",
     "text": [
      "O funcionario 1 ganhou R$ 100.0 de bonus\n",
      "**********************************************************************\n",
      "O funcionario 2 ganhou R$ 0 de bonus\n",
      "**********************************************************************\n",
      "O funcionario 3 ganhou R$ 405.0 de bonus\n"
     ]
    }
   ],
   "source": [
    "if vendas_funcionario_1 >= meta:\n",
    "    if vendas_funcionario_1 >= 2000:\n",
    "        bonus = vendas_funcionario_1 * 0.15\n",
    "    else:\n",
    "        bonus = vendas_funcionario_1 * 0.1\n",
    "else:\n",
    "    bonus = 0\n",
    "print(f'O funcionario 1 ganhou R$ {bonus} de bonus')\n",
    "\n",
    "print('*' * 70)\n",
    "\n",
    "if vendas_funcionario_2 >= meta:\n",
    "    if vendas_funcionario_2 >= 2000:\n",
    "        bonus = vendas_funcionario_2 * 0.15\n",
    "    else:\n",
    "        bonus = vendas_funcionario_2 * 0.1\n",
    "else:\n",
    "    bonus = 0\n",
    "print(f'O funcionario 2 ganhou R$ {bonus} de bonus')\n",
    "\n",
    "print('*' * 70)\n",
    "\n",
    "if vendas_funcionario_3 >= meta:\n",
    "    if vendas_funcionario_3 >= 2000:\n",
    "        bonus = vendas_funcionario_3 * 0.15\n",
    "    else:\n",
    "        bonus = vendas_funcionario_3 * 0.1\n",
    "else:\n",
    "    bonus = 0\n",
    "print(f'O funcionario 3 ganhou R$ {bonus} de bonus')\n",
    "    \n",
    "        \n",
    "        "
   ]
  }
 ],
 "metadata": {
  "kernelspec": {
   "display_name": "Python 3",
   "language": "python",
   "name": "python3"
  },
  "language_info": {
   "codemirror_mode": {
    "name": "ipython",
    "version": 3
   },
   "file_extension": ".py",
   "mimetype": "text/x-python",
   "name": "python",
   "nbconvert_exporter": "python",
   "pygments_lexer": "ipython3",
   "version": "3.8.8"
  }
 },
 "nbformat": 4,
 "nbformat_minor": 5
}
