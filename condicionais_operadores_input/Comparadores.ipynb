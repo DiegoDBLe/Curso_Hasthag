{
 "cells": [
  {
   "cell_type": "markdown",
   "id": "939cdeef",
   "metadata": {},
   "source": [
    "### Comparadores\n",
    "\n",
    "-  <b>==</b>     igual<br>\n",
    "-  <b>!=</b>     diferente<br>\n",
    "- <b>'>'</b>     maior que (>= maior ou igual)<br>\n",
    "- <b>'<'</b>     menor que (<= menor ou igual)<br>\n",
    "-  <b>in</b>     texto existe dentro de outro texto <br>\n",
    "-  <b>not</b>    verifica o contrário da comparação<br>\n",
    "\n",
    "<b>Obs:</b> Se em alguma condição você não quiser fazer nada, você pode simplesmente escrever:\n",
    "pass"
   ]
  },
  {
   "cell_type": "code",
   "execution_count": 21,
   "id": "bb151163",
   "metadata": {},
   "outputs": [
    {
     "name": "stdout",
     "output_type": "stream",
     "text": [
      "Digite o 1° faturamento: R$ 210\n",
      "Digite o 2° faturamento: R$ 210\n",
      "Digite seu email: diego@hotmail.com\n",
      "Digite outro email: d\n"
     ]
    }
   ],
   "source": [
    "faturamento_1 = float(input('Digite o 1° faturamento: R$ '))\n",
    "faturamento_2 = float(input('Digite o 2° faturamento: R$ '))\n",
    "email_1 = str(input('Digite seu email: '))\n",
    "email_2 = str(input('Digite outro email: '))"
   ]
  },
  {
   "cell_type": "code",
   "execution_count": 22,
   "id": "bd9112fe",
   "metadata": {},
   "outputs": [
    {
     "name": "stdout",
     "output_type": "stream",
     "text": [
      "Programa 1:\n",
      "Os faturamentos são iguais\n"
     ]
    }
   ],
   "source": [
    "print('Programa 1:')\n",
    "if faturamento_1 == faturamento_2:\n",
    "    print('Os faturamentos são iguais')\n",
    "else:\n",
    "    print('Os faturamentos são diferentes')"
   ]
  },
  {
   "cell_type": "code",
   "execution_count": 23,
   "id": "d58e506b",
   "metadata": {},
   "outputs": [
    {
     "name": "stdout",
     "output_type": "stream",
     "text": [
      "Programa 2:\n",
      "Email válido!\n"
     ]
    }
   ],
   "source": [
    "print('Programa 2:')\n",
    "if email_1 == email_2:\n",
    "    print('Usúario já cadastrado!')\n",
    "else:\n",
    "    print('Email válido!')"
   ]
  },
  {
   "cell_type": "code",
   "execution_count": 26,
   "id": "f695610a",
   "metadata": {},
   "outputs": [
    {
     "name": "stdout",
     "output_type": "stream",
     "text": [
      "Programa 3:\n",
      "Email Válido!!\n"
     ]
    }
   ],
   "source": [
    "print('Programa 3:')\n",
    "if not \"@\" in email_1:\n",
    "    print('Email inválido!!')\n",
    "else:\n",
    "     print('Email Válido!!')"
   ]
  }
 ],
 "metadata": {
  "kernelspec": {
   "display_name": "Python 3",
   "language": "python",
   "name": "python3"
  },
  "language_info": {
   "codemirror_mode": {
    "name": "ipython",
    "version": 3
   },
   "file_extension": ".py",
   "mimetype": "text/x-python",
   "name": "python",
   "nbconvert_exporter": "python",
   "pygments_lexer": "ipython3",
   "version": "3.8.8"
  }
 },
 "nbformat": 4,
 "nbformat_minor": 5
}
