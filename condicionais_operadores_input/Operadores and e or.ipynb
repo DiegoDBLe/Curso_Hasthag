{
 "cells": [
  {
   "cell_type": "markdown",
   "id": "30a21086",
   "metadata": {},
   "source": [
    "### Casos com várias condições/comparações\n",
    "Estrutura:<br>\n",
    "Quando temos várias comparações, ao invés de criar if dentro de if podemos usar os operadores \"and\" e \"or\" para tratar essas condições.<br>\n",
    "\n",
    "Funciona assim:<br>\n",
    "Exemplo:<br>\n",
    "Vamos voltar ao exemplo de cálculo de meta de vendas dos funcionários. Muitas empresas atribuem bonificação do salário dos funcionários de acordo com o resultado do funcionário e também com o resultado da empresa como um todo.<br>\n",
    "\n",
    "Nesse caso, a regra funciona da seguinte forma:<br>\n",
    "\n",
    "- Se o funcionário vendeu mais do que a meta de vendas e a loja bateu a meta de vendas da loja, o funcionário ganha 3% do que ele vendeu em forma de bônus.\n",
    "- Caso o funcionário tenha batido a meta de vendas individual dele, mas a loja não tenha batido a meta de vendas da loja como um todo, o funcionário não ganha bônus."
   ]
  },
  {
   "cell_type": "code",
   "execution_count": 6,
   "id": "5a04c0ef",
   "metadata": {},
   "outputs": [
    {
     "name": "stdout",
     "output_type": "stream",
     "text": [
      "Digite a meta para esse mês: R$50000\n",
      "Digite a venda do funcionário esse mês: R$20000\n",
      "Digite a venda da loja esse mês: R$48000\n",
      "Digite avaliação do funcionário:(0 a 10:): 2\n",
      "nao beta meta\n"
     ]
    }
   ],
   "source": [
    "meta_loja = float(input('Digite a meta para esse mês: R$'))\n",
    "meta_funcionario = meta_loja * 0.05\n",
    "\n",
    "comissao = 0.03\n",
    "\n",
    "venda_funcionario = float(input('Digite a venda do funcionário esse mês: R$' ))\n",
    "venda_da_loja = float(input('Digite a venda da loja esse mês: R$' ))\n",
    "avalicao_funcionario = int(input('Digite avaliação do funcionário:(0 a 10:): '))\n",
    "\n",
    "if venda_funcionario > meta_funcionario and venda_da_loja > meta_loja:\n",
    "    bonus = venda_funcionario * comissao\n",
    "    print(f'Bônus do funcionário é de R$ {bonus} reais')\n",
    "else:\n",
    "    print('nao beta meta')"
   ]
  }
 ],
 "metadata": {
  "kernelspec": {
   "display_name": "Python 3",
   "language": "python",
   "name": "python3"
  },
  "language_info": {
   "codemirror_mode": {
    "name": "ipython",
    "version": 3
   },
   "file_extension": ".py",
   "mimetype": "text/x-python",
   "name": "python",
   "nbconvert_exporter": "python",
   "pygments_lexer": "ipython3",
   "version": "3.8.8"
  }
 },
 "nbformat": 4,
 "nbformat_minor": 5
}
